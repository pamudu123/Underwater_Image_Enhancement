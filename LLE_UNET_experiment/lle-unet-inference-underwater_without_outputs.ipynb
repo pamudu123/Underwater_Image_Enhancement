{
 "cells": [
  {
   "cell_type": "markdown",
   "id": "d145a99d",
   "metadata": {
    "papermill": {
     "duration": 0.009618,
     "end_time": "2023-08-05T06:41:22.942056",
     "exception": false,
     "start_time": "2023-08-05T06:41:22.932438",
     "status": "completed"
    },
    "tags": []
   },
   "source": [
    "# **LLE_UNET INFERENCE UNDERWATER**"
   ]
  },
  {
   "cell_type": "markdown",
   "id": "8640eb64",
   "metadata": {
    "papermill": {
     "duration": 0.008999,
     "end_time": "2023-08-05T06:41:22.960317",
     "exception": false,
     "start_time": "2023-08-05T06:41:22.951318",
     "status": "completed"
    },
    "tags": []
   },
   "source": [
    "Date - 03/08/2023\n",
    "\n",
    "Images - EUVP (Enhancing Underwater Visual Perception) Datset Images"
   ]
  },
  {
   "cell_type": "code",
   "execution_count": null,
   "id": "287583f9",
   "metadata": {
    "execution": {
     "iopub.execute_input": "2023-08-05T06:41:22.980229Z",
     "iopub.status.busy": "2023-08-05T06:41:22.979826Z",
     "iopub.status.idle": "2023-08-05T06:41:22.991366Z",
     "shell.execute_reply": "2023-08-05T06:41:22.990433Z"
    },
    "papermill": {
     "duration": 0.024223,
     "end_time": "2023-08-05T06:41:22.993654",
     "exception": false,
     "start_time": "2023-08-05T06:41:22.969431",
     "status": "completed"
    },
    "tags": []
   },
   "outputs": [],
   "source": [
    "import os\n",
    "import random\n",
    "import csv"
   ]
  },
  {
   "cell_type": "code",
   "execution_count": null,
   "id": "87a68246",
   "metadata": {
    "execution": {
     "iopub.execute_input": "2023-08-05T06:41:23.014365Z",
     "iopub.status.busy": "2023-08-05T06:41:23.013973Z",
     "iopub.status.idle": "2023-08-05T06:41:32.329888Z",
     "shell.execute_reply": "2023-08-05T06:41:32.328604Z"
    },
    "papermill": {
     "duration": 9.329705,
     "end_time": "2023-08-05T06:41:32.332761",
     "exception": false,
     "start_time": "2023-08-05T06:41:23.003056",
     "status": "completed"
    },
    "tags": []
   },
   "outputs": [],
   "source": [
    "import cv2\n",
    "import sys\n",
    "import pandas as pd\n",
    "import numpy as np\n",
    "from matplotlib import pyplot as plt\n",
    "import math\n",
    "import random\n",
    "\n",
    "\n",
    "import tensorflow as tf\n",
    "from tensorflow.keras.layers import Dense, Activation, Concatenate, GlobalAveragePooling2D, Multiply,GlobalMaxPooling2D\n",
    "from tensorflow.keras.layers import Conv2D, BatchNormalization, MaxPool2D, Conv2DTranspose, Input\n",
    "from tensorflow.keras.models import Model\n",
    "from tensorflow.keras.applications.vgg16 import VGG16"
   ]
  },
  {
   "cell_type": "code",
   "execution_count": null,
   "id": "57651447",
   "metadata": {
    "execution": {
     "iopub.execute_input": "2023-08-05T06:41:32.354801Z",
     "iopub.status.busy": "2023-08-05T06:41:32.353383Z",
     "iopub.status.idle": "2023-08-05T06:41:32.359298Z",
     "shell.execute_reply": "2023-08-05T06:41:32.358374Z"
    },
    "papermill": {
     "duration": 0.019196,
     "end_time": "2023-08-05T06:41:32.361741",
     "exception": false,
     "start_time": "2023-08-05T06:41:32.342545",
     "status": "completed"
    },
    "tags": []
   },
   "outputs": [],
   "source": [
    "# set Radndom Seed\n",
    "SEED = 0\n",
    "np.random.seed(SEED)\n",
    "tf.random.set_seed(SEED)\n",
    "tf.config.run_functions_eagerly(True)"
   ]
  },
  {
   "cell_type": "code",
   "execution_count": null,
   "id": "66da365b",
   "metadata": {
    "execution": {
     "iopub.execute_input": "2023-08-05T06:41:32.383443Z",
     "iopub.status.busy": "2023-08-05T06:41:32.382725Z",
     "iopub.status.idle": "2023-08-05T06:41:32.389631Z",
     "shell.execute_reply": "2023-08-05T06:41:32.388577Z"
    },
    "papermill": {
     "duration": 0.020305,
     "end_time": "2023-08-05T06:41:32.392019",
     "exception": false,
     "start_time": "2023-08-05T06:41:32.371714",
     "status": "completed"
    },
    "tags": []
   },
   "outputs": [],
   "source": [
    "# Load train test validation image paths form csv files \n",
    "def load_excel_data(file_path, column1_name='UnderWater Images', column2_name='GroundTruth Images', sheet_name=\"Sheet1\"):\n",
    "    try:\n",
    "        # Load the Excel file\n",
    "        df = pd.read_csv(file_path)\n",
    "\n",
    "        # Extract the data from the specified columns\n",
    "        column1_data = df[column1_name].tolist()\n",
    "        column2_data = df[column2_name].tolist()\n",
    "\n",
    "        return column1_data, column2_data\n",
    "\n",
    "    except Exception as e:\n",
    "        print(f\"Error occurred while loading data from Excel: {e}\")\n",
    "        return None, None"
   ]
  },
  {
   "cell_type": "code",
   "execution_count": null,
   "id": "67383564",
   "metadata": {
    "execution": {
     "iopub.execute_input": "2023-08-05T06:41:32.414383Z",
     "iopub.status.busy": "2023-08-05T06:41:32.413937Z",
     "iopub.status.idle": "2023-08-05T06:41:32.418952Z",
     "shell.execute_reply": "2023-08-05T06:41:32.418166Z"
    },
    "papermill": {
     "duration": 0.018299,
     "end_time": "2023-08-05T06:41:32.421118",
     "exception": false,
     "start_time": "2023-08-05T06:41:32.402819",
     "status": "completed"
    },
    "tags": []
   },
   "outputs": [],
   "source": [
    "train_csv_path = r'/kaggle/input/train-lle-unet-for-underwater/train.csv'\n",
    "test_csv_path = r'/kaggle/input/train-lle-unet-for-underwater/test.csv'\n",
    "validation_csv_path = r'/kaggle/input/train-lle-unet-for-underwater/validation.csv'"
   ]
  },
  {
   "cell_type": "code",
   "execution_count": null,
   "id": "cb67f540",
   "metadata": {
    "execution": {
     "iopub.execute_input": "2023-08-05T06:41:32.442180Z",
     "iopub.status.busy": "2023-08-05T06:41:32.441519Z",
     "iopub.status.idle": "2023-08-05T06:41:32.538519Z",
     "shell.execute_reply": "2023-08-05T06:41:32.537503Z"
    },
    "papermill": {
     "duration": 0.110457,
     "end_time": "2023-08-05T06:41:32.541072",
     "exception": false,
     "start_time": "2023-08-05T06:41:32.430615",
     "status": "completed"
    },
    "tags": []
   },
   "outputs": [],
   "source": [
    "train_x_paths, train_y_paths = load_excel_data(train_csv_path)\n",
    "val_x_paths, val_y_paths = load_excel_data(validation_csv_path)\n",
    "test_x_paths, test_y_paths = load_excel_data(test_csv_path)"
   ]
  },
  {
   "cell_type": "code",
   "execution_count": null,
   "id": "f539422f",
   "metadata": {
    "execution": {
     "iopub.execute_input": "2023-08-05T06:41:32.563353Z",
     "iopub.status.busy": "2023-08-05T06:41:32.562952Z",
     "iopub.status.idle": "2023-08-05T06:41:32.578508Z",
     "shell.execute_reply": "2023-08-05T06:41:32.577516Z"
    },
    "papermill": {
     "duration": 0.030493,
     "end_time": "2023-08-05T06:41:32.581177",
     "exception": false,
     "start_time": "2023-08-05T06:41:32.550684",
     "status": "completed"
    },
    "tags": []
   },
   "outputs": [],
   "source": [
    "train_x_paths = sorted(train_x_paths)\n",
    "train_y_paths = sorted(train_y_paths)\n",
    "val_x_paths = sorted(val_x_paths)\n",
    "val_y_paths = sorted(val_y_paths)\n",
    "test_x_paths = sorted(test_x_paths)\n",
    "test_y_paths = sorted(test_y_paths)\n"
   ]
  },
  {
   "cell_type": "code",
   "execution_count": null,
   "id": "6404ae1a",
   "metadata": {
    "execution": {
     "iopub.execute_input": "2023-08-05T06:41:32.602778Z",
     "iopub.status.busy": "2023-08-05T06:41:32.601979Z",
     "iopub.status.idle": "2023-08-05T06:41:32.609362Z",
     "shell.execute_reply": "2023-08-05T06:41:32.607972Z"
    },
    "papermill": {
     "duration": 0.020753,
     "end_time": "2023-08-05T06:41:32.611639",
     "exception": false,
     "start_time": "2023-08-05T06:41:32.590886",
     "status": "completed"
    },
    "tags": []
   },
   "outputs": [],
   "source": [
    "print(f'X_train : {len(train_x_paths)}')\n",
    "print(f'Y_train : {len(train_y_paths)}')\n",
    "print(f'X_val   : {len(val_x_paths)}')\n",
    "print(f'Y_val   : {len(val_y_paths)}')\n",
    "print(f'X_test  : {len(test_x_paths)}')\n",
    "print(f'Y_test  : {len(test_y_paths)}')"
   ]
  },
  {
   "cell_type": "markdown",
   "id": "2cd8a5be",
   "metadata": {
    "papermill": {
     "duration": 0.009154,
     "end_time": "2023-08-05T06:41:32.630315",
     "exception": false,
     "start_time": "2023-08-05T06:41:32.621161",
     "status": "completed"
    },
    "tags": []
   },
   "source": [
    "### **Create Model**"
   ]
  },
  {
   "cell_type": "code",
   "execution_count": null,
   "id": "81b25aca",
   "metadata": {
    "execution": {
     "iopub.execute_input": "2023-08-05T06:41:32.651867Z",
     "iopub.status.busy": "2023-08-05T06:41:32.651045Z",
     "iopub.status.idle": "2023-08-05T06:41:32.663074Z",
     "shell.execute_reply": "2023-08-05T06:41:32.662242Z"
    },
    "papermill": {
     "duration": 0.025719,
     "end_time": "2023-08-05T06:41:32.665548",
     "exception": false,
     "start_time": "2023-08-05T06:41:32.639829",
     "status": "completed"
    },
    "tags": []
   },
   "outputs": [],
   "source": [
    "def channel_attention_module(x, ratio=8):\n",
    "    batch, _, _, channel = x.shape\n",
    "\n",
    "    ## Shared layers\n",
    "    l1 = Dense(channel//ratio, activation=\"relu\", use_bias=False)\n",
    "    l2 = Dense(channel, use_bias=False)\n",
    "\n",
    "    ## Global Average Pooling\n",
    "    x1 = GlobalAveragePooling2D()(x)\n",
    "    x1 = l1(x1)\n",
    "    x1 = l2(x1)\n",
    "\n",
    "    ## Global Max Pooling\n",
    "    x2 = GlobalMaxPooling2D()(x)\n",
    "    x2 = l1(x2)\n",
    "    x2 = l2(x2)\n",
    "\n",
    "    ## Add both the features and pass through sigmoid\n",
    "    feats = x1 + x2\n",
    "    feats = Activation(\"sigmoid\")(feats)\n",
    "    feats = Multiply()([x, feats])\n",
    "\n",
    "    return feats\n",
    "\n",
    "def spatial_attention_module(x):\n",
    "    ## Average Pooling\n",
    "    x1 = tf.reduce_mean(x, axis=-1)\n",
    "    x1 = tf.expand_dims(x1, axis=-1)\n",
    "\n",
    "    ## Max Pooling\n",
    "    x2 = tf.reduce_max(x, axis=-1)\n",
    "    x2 = tf.expand_dims(x2, axis=-1)\n",
    "\n",
    "    ## Concatenat both the features\n",
    "    feats = Concatenate()([x1, x2])\n",
    "    ## Conv layer\n",
    "    feats = Conv2D(1, kernel_size=7, padding=\"same\", activation=\"sigmoid\")(feats)\n",
    "    feats = Multiply()([x, feats])\n",
    "\n",
    "    return feats\n",
    "\n",
    "def CBAM(x):\n",
    "    x = channel_attention_module(x)\n",
    "    x = spatial_attention_module(x)\n",
    "    return x"
   ]
  },
  {
   "cell_type": "code",
   "execution_count": null,
   "id": "5e55d28e",
   "metadata": {
    "execution": {
     "iopub.execute_input": "2023-08-05T06:41:32.687273Z",
     "iopub.status.busy": "2023-08-05T06:41:32.686431Z",
     "iopub.status.idle": "2023-08-05T06:41:32.700397Z",
     "shell.execute_reply": "2023-08-05T06:41:32.699501Z"
    },
    "papermill": {
     "duration": 0.027758,
     "end_time": "2023-08-05T06:41:32.702909",
     "exception": false,
     "start_time": "2023-08-05T06:41:32.675151",
     "status": "completed"
    },
    "tags": []
   },
   "outputs": [],
   "source": [
    "def conv_block(input, num_filters):\n",
    "    x = Conv2D(num_filters, 3, padding=\"same\")(input)\n",
    "    x = BatchNormalization()(x)\n",
    "    x = Activation(\"relu\")(x)\n",
    "\n",
    "    x = Conv2D(num_filters, 3, padding=\"same\")(x)\n",
    "    x = BatchNormalization()(x)\n",
    "    x = Activation(\"relu\")(x)\n",
    "\n",
    "    return x\n",
    "\n",
    "def encoder_block(input, num_filters):\n",
    "    x = conv_block(input, num_filters)\n",
    "    p = MaxPool2D((2, 2))(x)\n",
    "    return x, p\n",
    "\n",
    "def decoder_block(input, skip_features, num_filters):\n",
    "    x = Conv2DTranspose(num_filters, (2, 2), strides=2, padding=\"same\")(input)\n",
    "    x = Concatenate()([x, skip_features])\n",
    "    x = conv_block(x, num_filters)\n",
    "    return x\n",
    "\n",
    "def build_model(input_shape):\n",
    "    inputs = Input(input_shape)\n",
    "\n",
    "    vgg_model = VGG16(include_top=False, weights=\"imagenet\",input_tensor=inputs)\n",
    "    vgg_model.trainable = False\n",
    "\n",
    "    # Encoder\n",
    "    s1 = vgg_model.get_layer(\"block1_conv2\").output                             ## (512 x 512)\n",
    "    s2 = vgg_model.get_layer(\"block2_conv2\").output                             ## (256 x 256)\n",
    "    s3 = vgg_model.get_layer(\"block3_conv3\").output                             ## (128 x 128)\n",
    "    s4 = vgg_model.get_layer(\"block4_conv3\").output                             ## (64 x 64)\n",
    "\n",
    "    b1 = vgg_model.get_layer(\"block5_conv3\").output                             ## (32 x 32)\n",
    "\n",
    "    # Attention\n",
    "    s1 = CBAM(s1)\n",
    "    s2 = CBAM(s2)\n",
    "    s3 = CBAM(s3)\n",
    "    s4 = CBAM(s4)\n",
    "\n",
    "    # Decoder\n",
    "    d1 = decoder_block(b1, s4, 512)                                             ## (64 x 64)\n",
    "    d2 = decoder_block(d1, s3, 256)                                             ## (128 x 128)\n",
    "    d3 = decoder_block(d2, s2, 128)                                             ## (256 x 256)\n",
    "    d4 = decoder_block(d3, s1, 64)                                              ## (512 x 512)\n",
    "\n",
    "    # Output\n",
    "    outputs = Conv2D(3, 1, padding=\"same\", activation=\"sigmoid\")(d4)\n",
    "\n",
    "    model = Model(inputs, outputs, name=\"LLE_UNET_undwerwater\")\n",
    "    return model\n"
   ]
  },
  {
   "cell_type": "code",
   "execution_count": null,
   "id": "d30e9d04",
   "metadata": {
    "execution": {
     "iopub.execute_input": "2023-08-05T06:41:32.724187Z",
     "iopub.status.busy": "2023-08-05T06:41:32.723726Z",
     "iopub.status.idle": "2023-08-05T06:41:35.178529Z",
     "shell.execute_reply": "2023-08-05T06:41:35.177059Z"
    },
    "papermill": {
     "duration": 2.53882,
     "end_time": "2023-08-05T06:41:35.251353",
     "exception": false,
     "start_time": "2023-08-05T06:41:32.712533",
     "status": "completed"
    },
    "tags": []
   },
   "outputs": [],
   "source": [
    "input_shape = (None, None, 3)\n",
    "model = build_model(input_shape)\n",
    "model.summary()"
   ]
  },
  {
   "cell_type": "code",
   "execution_count": null,
   "id": "95d58e4b",
   "metadata": {
    "execution": {
     "iopub.execute_input": "2023-08-05T06:41:35.332142Z",
     "iopub.status.busy": "2023-08-05T06:41:35.331742Z",
     "iopub.status.idle": "2023-08-05T06:41:35.343415Z",
     "shell.execute_reply": "2023-08-05T06:41:35.342444Z"
    },
    "papermill": {
     "duration": 0.054838,
     "end_time": "2023-08-05T06:41:35.345742",
     "exception": false,
     "start_time": "2023-08-05T06:41:35.290904",
     "status": "completed"
    },
    "tags": []
   },
   "outputs": [],
   "source": [
    "#optimizer = tf.keras.optimizers.experimental.AdamW(learning_rate=0.0001,weight_decay=0.004)\n",
    "optimizer = tf.keras.optimizers.Adam(learning_rate=3e-4)\n",
    "MSEloss = tf.keras.losses.MeanSquaredError()\n",
    "\n",
    "def charbonnier_loss(y_true, y_pred):\n",
    "    return tf.reduce_mean(tf.sqrt(tf.square(y_true - y_pred) + tf.square(1e-3)))\n",
    "\n",
    "def psnr_loss_fn(y_true, y_pred):\n",
    "    return tf.image.psnr(y_pred, y_true, max_val=1.0)\n",
    "\n",
    "def ssim_loss_fn(y_true,y_pred):\n",
    "    return tf.image.ssim(y_true,y_pred,1.0)"
   ]
  },
  {
   "cell_type": "code",
   "execution_count": null,
   "id": "e4c7cafd",
   "metadata": {
    "execution": {
     "iopub.execute_input": "2023-08-05T06:41:35.425116Z",
     "iopub.status.busy": "2023-08-05T06:41:35.424674Z",
     "iopub.status.idle": "2023-08-05T06:41:35.429494Z",
     "shell.execute_reply": "2023-08-05T06:41:35.428511Z"
    },
    "papermill": {
     "duration": 0.047158,
     "end_time": "2023-08-05T06:41:35.431764",
     "exception": false,
     "start_time": "2023-08-05T06:41:35.384606",
     "status": "completed"
    },
    "tags": []
   },
   "outputs": [],
   "source": [
    "model_path = r'/kaggle/input/train-lle-unet-for-underwater/LLE_UNET_UNDWERWATER.h5'"
   ]
  },
  {
   "cell_type": "code",
   "execution_count": null,
   "id": "62af7d8f",
   "metadata": {
    "execution": {
     "iopub.execute_input": "2023-08-05T06:41:35.511751Z",
     "iopub.status.busy": "2023-08-05T06:41:35.510973Z",
     "iopub.status.idle": "2023-08-05T06:41:37.836642Z",
     "shell.execute_reply": "2023-08-05T06:41:37.835548Z"
    },
    "papermill": {
     "duration": 2.367996,
     "end_time": "2023-08-05T06:41:37.839182",
     "exception": false,
     "start_time": "2023-08-05T06:41:35.471186",
     "status": "completed"
    },
    "tags": []
   },
   "outputs": [],
   "source": [
    "from keras.models import load_model\n",
    "model = load_model(model_path,custom_objects={'charbonnier_loss': charbonnier_loss,\n",
    "                                              'psnr_loss_fn':psnr_loss_fn,\n",
    "                                              'ssim_loss_fn':ssim_loss_fn},\n",
    "                                              compile = False)"
   ]
  },
  {
   "cell_type": "markdown",
   "id": "e6e7f8da",
   "metadata": {
    "papermill": {
     "duration": 0.039437,
     "end_time": "2023-08-05T06:41:37.917874",
     "exception": false,
     "start_time": "2023-08-05T06:41:37.878437",
     "status": "completed"
    },
    "tags": []
   },
   "source": [
    "### **Preprocessing Functions**"
   ]
  },
  {
   "cell_type": "code",
   "execution_count": null,
   "id": "aa5879ba",
   "metadata": {
    "execution": {
     "iopub.execute_input": "2023-08-05T06:41:37.999151Z",
     "iopub.status.busy": "2023-08-05T06:41:37.998015Z",
     "iopub.status.idle": "2023-08-05T06:41:38.013660Z",
     "shell.execute_reply": "2023-08-05T06:41:38.012525Z"
    },
    "papermill": {
     "duration": 0.059219,
     "end_time": "2023-08-05T06:41:38.016584",
     "exception": false,
     "start_time": "2023-08-05T06:41:37.957365",
     "status": "completed"
    },
    "tags": []
   },
   "outputs": [],
   "source": [
    "def padding_calc(input_dim,multiplier=32):\n",
    "    return math.ceil(input_dim/multiplier)*multiplier - input_dim\n",
    "\n",
    "def pad_image(image,mood = \"center_padding\"):\n",
    "    img_h = image.shape[0]\n",
    "    img_w = image.shape[1]\n",
    "\n",
    "    pad_y = padding_calc(img_h)\n",
    "    pad_x = padding_calc(img_w)\n",
    "\n",
    "    if mood == \"center_padding\":\n",
    "        pad_y2 = pad_y//2\n",
    "        pad_x2 = pad_x//2\n",
    "\n",
    "        padded_img = image.copy()\n",
    "        if pad_y%2 != 0:\n",
    "            padded_img = np.pad(image, ((pad_y2, pad_y2+1), (pad_x2, pad_x2), (0, 0)), mode='constant')\n",
    "        if pad_x%2 != 0:\n",
    "            padded_img = np.pad(image, ((pad_y2, pad_y2), (pad_x2, pad_x2+1), (0, 0)), mode='constant')\n",
    "        if (pad_y%2 == 0) & (pad_x%2 == 0):\n",
    "            padded_img = np.pad(image, ((pad_y2, pad_y2), (pad_x2, pad_x2), (0, 0)), mode='constant')\n",
    "\n",
    "    elif mood == \"corner_padding\":\n",
    "        padded_img = np.pad(image, ((0, pad_y), (0, pad_x), (0, 0)), mode='constant')\n",
    "    return padded_img\n",
    "\n",
    "def inverse_padding(pad_image,image_dim,pad_method=\"center_padding\"):\n",
    "  pad_img_height = pad_image.shape[0]\n",
    "  pad_img_width = pad_image.shape[1]\n",
    "\n",
    "  img_height = image_dim[0]\n",
    "  img_width = image_dim[1]\n",
    "\n",
    "  if pad_method == \"center_padding\":\n",
    "    pad_y1 = (pad_img_height - img_height)//2\n",
    "    if pad_y1*2 == (pad_img_height - img_height):pad_y2 = pad_y1\n",
    "    else: pad_y2 = pad_y1+1\n",
    "\n",
    "    pad_x1 = (pad_img_width - img_width)//2\n",
    "    if pad_x1*2 == (pad_img_width - img_width):pad_x2 = pad_x1\n",
    "    else: pad_x2 = pad_x1+1\n",
    "    extract_image = pad_image[pad_y1:pad_img_height-pad_y2,pad_x1:pad_img_width-pad_x2]\n",
    "\n",
    "  if pad_method == \"corner_padding\":\n",
    "    extract_image = pad_image[0:img_height,0:img_width]\n",
    "\n",
    "\n",
    "  return extract_image"
   ]
  },
  {
   "cell_type": "code",
   "execution_count": null,
   "id": "57d10043",
   "metadata": {
    "execution": {
     "iopub.execute_input": "2023-08-05T06:41:38.096423Z",
     "iopub.status.busy": "2023-08-05T06:41:38.095991Z",
     "iopub.status.idle": "2023-08-05T06:41:38.101966Z",
     "shell.execute_reply": "2023-08-05T06:41:38.100925Z"
    },
    "papermill": {
     "duration": 0.04872,
     "end_time": "2023-08-05T06:41:38.104063",
     "exception": false,
     "start_time": "2023-08-05T06:41:38.055343",
     "status": "completed"
    },
    "tags": []
   },
   "outputs": [],
   "source": [
    "def preprocess_image(img_path):\n",
    "    img = cv2.imread(img_path)\n",
    "    img = cv2.cvtColor(img, cv2.COLOR_BGR2RGB)\n",
    "    img = cv2.resize(img,(256,256))\n",
    "    preprocess_img = pad_image(img)\n",
    "    preprocess_img = preprocess_img/255;\n",
    "    preprocess_img = preprocess_img.astype(np.float32)\n",
    "    return preprocess_img"
   ]
  },
  {
   "cell_type": "markdown",
   "id": "f5ec9738",
   "metadata": {
    "papermill": {
     "duration": 0.038678,
     "end_time": "2023-08-05T06:41:38.181417",
     "exception": false,
     "start_time": "2023-08-05T06:41:38.142739",
     "status": "completed"
    },
    "tags": []
   },
   "source": [
    "**Inference**"
   ]
  },
  {
   "cell_type": "code",
   "execution_count": null,
   "id": "7de81f74",
   "metadata": {
    "execution": {
     "iopub.execute_input": "2023-08-05T06:41:38.340488Z",
     "iopub.status.busy": "2023-08-05T06:41:38.339384Z",
     "iopub.status.idle": "2023-08-05T06:41:38.345177Z",
     "shell.execute_reply": "2023-08-05T06:41:38.344130Z"
    },
    "papermill": {
     "duration": 0.048032,
     "end_time": "2023-08-05T06:41:38.347397",
     "exception": false,
     "start_time": "2023-08-05T06:41:38.299365",
     "status": "completed"
    },
    "tags": []
   },
   "outputs": [],
   "source": [
    "EXPERIMENT_VERSION = 'v1'\n",
    "RESULTS_SAVE_DIR = os.path.join(r'/kaggle/working/',EXPERIMENT_VERSION)\n",
    "os.makedirs(RESULTS_SAVE_DIR,exist_ok = True)"
   ]
  },
  {
   "cell_type": "code",
   "execution_count": null,
   "id": "32896e51",
   "metadata": {
    "execution": {
     "iopub.execute_input": "2023-08-05T06:41:38.427940Z",
     "iopub.status.busy": "2023-08-05T06:41:38.427523Z",
     "iopub.status.idle": "2023-08-05T06:41:39.330567Z",
     "shell.execute_reply": "2023-08-05T06:41:39.329377Z"
    },
    "papermill": {
     "duration": 0.946844,
     "end_time": "2023-08-05T06:41:39.333403",
     "exception": false,
     "start_time": "2023-08-05T06:41:38.386559",
     "status": "completed"
    },
    "tags": []
   },
   "outputs": [],
   "source": [
    "import numpy as np\n",
    "from skimage.metrics import structural_similarity as ssim\n",
    "from math import log10, sqrt\n",
    "import time\n",
    "from PIL import Image"
   ]
  },
  {
   "cell_type": "code",
   "execution_count": null,
   "id": "7c6986da",
   "metadata": {
    "execution": {
     "iopub.execute_input": "2023-08-05T06:41:39.413013Z",
     "iopub.status.busy": "2023-08-05T06:41:39.412631Z",
     "iopub.status.idle": "2023-08-05T06:41:39.425374Z",
     "shell.execute_reply": "2023-08-05T06:41:39.423979Z"
    },
    "papermill": {
     "duration": 0.05512,
     "end_time": "2023-08-05T06:41:39.427554",
     "exception": false,
     "start_time": "2023-08-05T06:41:39.372434",
     "status": "completed"
    },
    "tags": []
   },
   "outputs": [],
   "source": [
    "class DatasetMetrics:\n",
    "    def __init__(self):\n",
    "        self.total_psnr = 0\n",
    "        self.total_ssim = 0\n",
    "        self.total_mse  = 0\n",
    "        self.total_images = 0\n",
    "\n",
    "    def update_metrics(self, img1, img2):\n",
    "        mse_score = self.calculate_mse(img1, img2)\n",
    "        psnr = self.calculate_psnr(img1, img2)\n",
    "        ssim_score = self.calculate_ssim(img1, img2)\n",
    "\n",
    "        self.total_psnr += psnr\n",
    "        self.total_ssim += ssim_score\n",
    "        self.total_mse += mse_score\n",
    "        self.total_images += 1\n",
    "        \n",
    "    def calculate_mse(self, img1, img2):\n",
    "        return np.mean((np.array(img1, dtype=np.float32) - np.array(img2, dtype=np.float32)) ** 2)\n",
    "    \n",
    "    def calculate_psnr(self, img1, img2,max_pixel=1.0):\n",
    "        mse = self.calculate_mse(img1, img2)\n",
    "        if mse == 0:\n",
    "            return 100\n",
    "        psnr = 20 * np.log10(max_pixel / (np.sqrt(mse)))\n",
    "        return psnr\n",
    "    \n",
    "    def calculate_ssim(self, img1, img2):\n",
    "        gray1 = cv2.cvtColor(img1, cv2.COLOR_BGR2GRAY)\n",
    "        gray2 = cv2.cvtColor(img2, cv2.COLOR_BGR2GRAY)\n",
    "        return ssim(gray1, gray2,data_range= 1-0)\n",
    "\n",
    "    def __str__(self):\n",
    "        if self.total_images == 0:\n",
    "            return \"No images processed yet.\"\n",
    "        \n",
    "        avg_psnr = self.total_psnr / self.total_images\n",
    "        avg_ssim = self.total_ssim / self.total_images\n",
    "        avg_mse = self.total_mse / self.total_images\n",
    "\n",
    "        return f\"Average PSNR: {avg_psnr:.4f}, Average SSIM: {avg_ssim:.4f}, Average MAE: {avg_mse:.4f}\"\n",
    "\n",
    "# # Usage example:\n",
    "# if __name__ == \"__main__\":\n",
    "#     # Assuming you have a list of image pairs, img_list1 and img_list2\n",
    "#     dataset_metrics = DatasetMetrics()\n",
    "\n",
    "#     for img1, img2 in zip(img_list1, img_list2):\n",
    "#         dataset_metrics.update_metrics(img1, img2)\n",
    "\n",
    "#     print(dataset_metrics)"
   ]
  },
  {
   "cell_type": "code",
   "execution_count": null,
   "id": "6922a51a",
   "metadata": {
    "execution": {
     "iopub.execute_input": "2023-08-05T06:41:39.507783Z",
     "iopub.status.busy": "2023-08-05T06:41:39.507388Z",
     "iopub.status.idle": "2023-08-05T06:41:39.513512Z",
     "shell.execute_reply": "2023-08-05T06:41:39.512347Z"
    },
    "papermill": {
     "duration": 0.049545,
     "end_time": "2023-08-05T06:41:39.515928",
     "exception": false,
     "start_time": "2023-08-05T06:41:39.466383",
     "status": "completed"
    },
    "tags": []
   },
   "outputs": [],
   "source": [
    "def save_image(numpy_image,img_name):\n",
    "    img = Image.fromarray((numpy_image * 255).astype(np.uint8))\n",
    "    save_image_path = os.path.join(RESULTS_SAVE_DIR,f'{img_name}.png')\n",
    "    img.save(save_image_path)"
   ]
  },
  {
   "cell_type": "code",
   "execution_count": null,
   "id": "02648de1",
   "metadata": {
    "execution": {
     "iopub.execute_input": "2023-08-05T06:41:39.595967Z",
     "iopub.status.busy": "2023-08-05T06:41:39.594803Z",
     "iopub.status.idle": "2023-08-05T06:41:39.609663Z",
     "shell.execute_reply": "2023-08-05T06:41:39.608409Z"
    },
    "papermill": {
     "duration": 0.057208,
     "end_time": "2023-08-05T06:41:39.611950",
     "exception": false,
     "start_time": "2023-08-05T06:41:39.554742",
     "status": "completed"
    },
    "tags": []
   },
   "outputs": [],
   "source": [
    "# x_paths: A list of underwater image file paths for prediction.\n",
    "# y_paths: A list of ground truth image file paths corresponding to the underwater images\n",
    "# n_images: The number of images to process for inference and evaluation.\n",
    "# suffix: suffix for naming saved images and results to differentiate.\n",
    "# save1: If True, it saves individual images of input, predicted, and ground truth.\n",
    "# save2: If True, it saves a single image with all three images side by side.\n",
    "# disp: If True, it shows image with all three images side by side.\n",
    "\n",
    "def infer(x_paths,y_paths,n_images,suffix,save1=False,save2=False,disp=False):\n",
    "    st = time.time()\n",
    "    dataset_metrics = DatasetMetrics()\n",
    "    for i,x_image_path in enumerate(x_paths):\n",
    "        if i == n_images:\n",
    "            break\n",
    "        print(f'{i+1}/{n_images} : {x_image_path}')\n",
    "        x_img = preprocess_image(x_image_path)\n",
    "        prediction = model.predict(np.expand_dims(x_img,axis=0),verbose=0)[0]\n",
    "\n",
    "        y_img_path = y_paths[i]\n",
    "        y_img = preprocess_image(y_img_path)\n",
    "        \n",
    "        if save1:\n",
    "            save_image(x_img,f'underwater_{suffix}_{i}')\n",
    "            save_image(prediction,f'pred_{suffix}_{i}')\n",
    "            save_image(y_img,f'groundtruth_{suffix}_{i}')\n",
    "        \n",
    "        if disp:\n",
    "            fig, ax = plt.subplots(ncols=3, figsize=(15,10));\n",
    "            ax[0].imshow(x_img);\n",
    "            ax[1].imshow(prediction);\n",
    "            ax[2].imshow(y_img);\n",
    "            ax[0].axis('off');\n",
    "            ax[1].axis('off');\n",
    "            ax[2].axis('off');\n",
    "            ax[0].set_title(\"UnderWater Image\")\n",
    "            ax[1].set_title(\"Predicted Image\")\n",
    "            ax[2].set_title(\"GroundTruth Image\")\n",
    "            if save2:\n",
    "                full_image_path = os.path.join(RESULTS_SAVE_DIR,f'full_pred_{suffix}_{i}.png')\n",
    "                plt.savefig(full_image_path, bbox_inches='tight', pad_inches=0)\n",
    "            plt.show()\n",
    "        \n",
    "        dataset_metrics.update_metrics(y_img,prediction)\n",
    "    \n",
    "    print(f'\\n{suffix} images')\n",
    "    print(\"=\"*80)\n",
    "    print(f'{time.time()-st :.4f} sec for {n_images} images')\n",
    "    print(dataset_metrics)\n",
    "    print(\"=\"*80)"
   ]
  },
  {
   "cell_type": "code",
   "execution_count": null,
   "id": "c919a454",
   "metadata": {
    "execution": {
     "iopub.execute_input": "2023-08-05T06:41:39.691270Z",
     "iopub.status.busy": "2023-08-05T06:41:39.690514Z",
     "iopub.status.idle": "2023-08-05T06:41:59.585513Z",
     "shell.execute_reply": "2023-08-05T06:41:59.584455Z"
    },
    "papermill": {
     "duration": 19.940656,
     "end_time": "2023-08-05T06:41:59.591553",
     "exception": false,
     "start_time": "2023-08-05T06:41:39.650897",
     "status": "completed"
    },
    "tags": []
   },
   "outputs": [],
   "source": [
    "# on test images\n",
    "infer(test_x_paths,test_y_paths,n_images=10,suffix='test',save1=False,save2=False,disp=True)"
   ]
  },
  {
   "cell_type": "code",
   "execution_count": null,
   "id": "c6ea0a83",
   "metadata": {
    "execution": {
     "iopub.execute_input": "2023-08-05T06:41:59.914343Z",
     "iopub.status.busy": "2023-08-05T06:41:59.913874Z",
     "iopub.status.idle": "2023-08-05T06:42:18.412134Z",
     "shell.execute_reply": "2023-08-05T06:42:18.411059Z"
    },
    "papermill": {
     "duration": 18.670909,
     "end_time": "2023-08-05T06:42:18.422113",
     "exception": false,
     "start_time": "2023-08-05T06:41:59.751204",
     "status": "completed"
    },
    "tags": []
   },
   "outputs": [],
   "source": [
    "infer(train_x_paths,train_y_paths,n_images=10,suffix='train',save1=False,save2=False,disp=True)"
   ]
  }
 ],
 "metadata": {
  "kernelspec": {
   "display_name": "Python 3",
   "language": "python",
   "name": "python3"
  },
  "language_info": {
   "codemirror_mode": {
    "name": "ipython",
    "version": 3
   },
   "file_extension": ".py",
   "mimetype": "text/x-python",
   "name": "python",
   "nbconvert_exporter": "python",
   "pygments_lexer": "ipython3",
   "version": "3.10.12"
  },
  "papermill": {
   "default_parameters": {},
   "duration": 69.750676,
   "end_time": "2023-08-05T06:42:21.538274",
   "environment_variables": {},
   "exception": null,
   "input_path": "__notebook__.ipynb",
   "output_path": "__notebook__.ipynb",
   "parameters": {},
   "start_time": "2023-08-05T06:41:11.787598",
   "version": "2.4.0"
  }
 },
 "nbformat": 4,
 "nbformat_minor": 5
}
