{
 "cells": [
  {
   "cell_type": "markdown",
   "id": "cd2bd132",
   "metadata": {
    "papermill": {
     "duration": 0.008629,
     "end_time": "2023-08-04T02:13:17.336759",
     "exception": false,
     "start_time": "2023-08-04T02:13:17.328130",
     "status": "completed"
    },
    "tags": []
   },
   "source": [
    "# **LLE_UNET INFERENCE UNDERWATER**"
   ]
  },
  {
   "cell_type": "markdown",
   "id": "f613c21b",
   "metadata": {
    "papermill": {
     "duration": 0.007936,
     "end_time": "2023-08-04T02:13:17.352958",
     "exception": false,
     "start_time": "2023-08-04T02:13:17.345022",
     "status": "completed"
    },
    "tags": []
   },
   "source": [
    "Date - 03/08/2023\n",
    "\n",
    "Images - EUVP (Enhancing Underwater Visual Perception) Datset Images"
   ]
  },
  {
   "cell_type": "code",
   "execution_count": null,
   "id": "2bed2167",
   "metadata": {
    "execution": {
     "iopub.execute_input": "2023-08-04T02:13:17.371162Z",
     "iopub.status.busy": "2023-08-04T02:13:17.370623Z",
     "iopub.status.idle": "2023-08-04T02:13:17.383950Z",
     "shell.execute_reply": "2023-08-04T02:13:17.382921Z"
    },
    "papermill": {
     "duration": 0.025288,
     "end_time": "2023-08-04T02:13:17.386318",
     "exception": false,
     "start_time": "2023-08-04T02:13:17.361030",
     "status": "completed"
    },
    "tags": []
   },
   "outputs": [],
   "source": [
    "import os\n",
    "import random\n",
    "import csv"
   ]
  },
  {
   "cell_type": "code",
   "execution_count": null,
   "id": "f5166ca1",
   "metadata": {
    "execution": {
     "iopub.execute_input": "2023-08-04T02:13:17.404352Z",
     "iopub.status.busy": "2023-08-04T02:13:17.403960Z",
     "iopub.status.idle": "2023-08-04T02:13:27.142249Z",
     "shell.execute_reply": "2023-08-04T02:13:27.141039Z"
    },
    "papermill": {
     "duration": 9.750382,
     "end_time": "2023-08-04T02:13:27.145073",
     "exception": false,
     "start_time": "2023-08-04T02:13:17.394691",
     "status": "completed"
    },
    "tags": []
   },
   "outputs": [],
   "source": [
    "import cv2\n",
    "import sys\n",
    "import pandas as pd\n",
    "import numpy as np\n",
    "from matplotlib import pyplot as plt\n",
    "import math\n",
    "import random\n",
    "\n",
    "\n",
    "import tensorflow as tf\n",
    "from tensorflow.keras.layers import Dense, Activation, Concatenate, GlobalAveragePooling2D, Multiply,GlobalMaxPooling2D\n",
    "from tensorflow.keras.layers import Conv2D, BatchNormalization, MaxPool2D, Conv2DTranspose, Input\n",
    "from tensorflow.keras.models import Model\n",
    "from tensorflow.keras.applications.vgg16 import VGG16"
   ]
  },
  {
   "cell_type": "code",
   "execution_count": null,
   "id": "21280001",
   "metadata": {
    "execution": {
     "iopub.execute_input": "2023-08-04T02:13:27.164150Z",
     "iopub.status.busy": "2023-08-04T02:13:27.163380Z",
     "iopub.status.idle": "2023-08-04T02:13:27.169733Z",
     "shell.execute_reply": "2023-08-04T02:13:27.168562Z"
    },
    "papermill": {
     "duration": 0.018429,
     "end_time": "2023-08-04T02:13:27.172090",
     "exception": false,
     "start_time": "2023-08-04T02:13:27.153661",
     "status": "completed"
    },
    "tags": []
   },
   "outputs": [],
   "source": [
    "# set Radndom Seed\n",
    "SEED = 0\n",
    "np.random.seed(SEED)\n",
    "tf.random.set_seed(SEED)\n",
    "tf.config.run_functions_eagerly(True)"
   ]
  },
  {
   "cell_type": "code",
   "execution_count": null,
   "id": "7bbbb9aa",
   "metadata": {
    "execution": {
     "iopub.execute_input": "2023-08-04T02:13:27.190940Z",
     "iopub.status.busy": "2023-08-04T02:13:27.190470Z",
     "iopub.status.idle": "2023-08-04T02:13:27.197793Z",
     "shell.execute_reply": "2023-08-04T02:13:27.196681Z"
    },
    "papermill": {
     "duration": 0.019393,
     "end_time": "2023-08-04T02:13:27.199983",
     "exception": false,
     "start_time": "2023-08-04T02:13:27.180590",
     "status": "completed"
    },
    "tags": []
   },
   "outputs": [],
   "source": [
    "# Load train test validation image paths form csv files \n",
    "def load_excel_data(file_path, column1_name='UnderWater Images', column2_name='GroundTruth Images', sheet_name=\"Sheet1\"):\n",
    "    try:\n",
    "        # Load the Excel file\n",
    "        df = pd.read_csv(file_path)\n",
    "\n",
    "        # Extract the data from the specified columns\n",
    "        column1_data = df[column1_name].tolist()\n",
    "        column2_data = df[column2_name].tolist()\n",
    "\n",
    "        return column1_data, column2_data\n",
    "\n",
    "    except Exception as e:\n",
    "        print(f\"Error occurred while loading data from Excel: {e}\")\n",
    "        return None, None"
   ]
  },
  {
   "cell_type": "code",
   "execution_count": null,
   "id": "85d577d1",
   "metadata": {
    "execution": {
     "iopub.execute_input": "2023-08-04T02:13:27.218297Z",
     "iopub.status.busy": "2023-08-04T02:13:27.217903Z",
     "iopub.status.idle": "2023-08-04T02:13:27.223107Z",
     "shell.execute_reply": "2023-08-04T02:13:27.222013Z"
    },
    "papermill": {
     "duration": 0.016968,
     "end_time": "2023-08-04T02:13:27.225304",
     "exception": false,
     "start_time": "2023-08-04T02:13:27.208336",
     "status": "completed"
    },
    "tags": []
   },
   "outputs": [],
   "source": [
    "train_csv_path = r'/kaggle/input/train-lle-unet-for-underwater/train.csv'\n",
    "test_csv_path = r'/kaggle/input/train-lle-unet-for-underwater/test.csv'\n",
    "validation_csv_path = r'/kaggle/input/train-lle-unet-for-underwater/validation.csv'"
   ]
  },
  {
   "cell_type": "code",
   "execution_count": null,
   "id": "aa7eb955",
   "metadata": {
    "execution": {
     "iopub.execute_input": "2023-08-04T02:13:27.245603Z",
     "iopub.status.busy": "2023-08-04T02:13:27.244450Z",
     "iopub.status.idle": "2023-08-04T02:13:27.334911Z",
     "shell.execute_reply": "2023-08-04T02:13:27.333790Z"
    },
    "papermill": {
     "duration": 0.102598,
     "end_time": "2023-08-04T02:13:27.337481",
     "exception": false,
     "start_time": "2023-08-04T02:13:27.234883",
     "status": "completed"
    },
    "tags": []
   },
   "outputs": [],
   "source": [
    "train_x_paths, train_y_paths = load_excel_data(train_csv_path)\n",
    "val_x_paths, val_y_paths = load_excel_data(validation_csv_path)\n",
    "test_x_paths, test_y_paths = load_excel_data(test_csv_path)"
   ]
  },
  {
   "cell_type": "code",
   "execution_count": null,
   "id": "e9c89316",
   "metadata": {
    "execution": {
     "iopub.execute_input": "2023-08-04T02:13:27.355730Z",
     "iopub.status.busy": "2023-08-04T02:13:27.355313Z",
     "iopub.status.idle": "2023-08-04T02:13:27.370487Z",
     "shell.execute_reply": "2023-08-04T02:13:27.369688Z"
    },
    "papermill": {
     "duration": 0.026859,
     "end_time": "2023-08-04T02:13:27.372728",
     "exception": false,
     "start_time": "2023-08-04T02:13:27.345869",
     "status": "completed"
    },
    "tags": []
   },
   "outputs": [],
   "source": [
    "train_x_paths = sorted(train_x_paths)\n",
    "train_y_paths = sorted(train_y_paths)\n",
    "val_x_paths = sorted(val_x_paths)\n",
    "val_y_paths = sorted(val_y_paths)\n",
    "test_x_paths = sorted(test_x_paths)\n",
    "test_y_paths = sorted(test_y_paths)\n"
   ]
  },
  {
   "cell_type": "code",
   "execution_count": null,
   "id": "2b232813",
   "metadata": {
    "execution": {
     "iopub.execute_input": "2023-08-04T02:13:27.391681Z",
     "iopub.status.busy": "2023-08-04T02:13:27.391257Z",
     "iopub.status.idle": "2023-08-04T02:13:27.396729Z",
     "shell.execute_reply": "2023-08-04T02:13:27.395984Z"
    },
    "papermill": {
     "duration": 0.01799,
     "end_time": "2023-08-04T02:13:27.399366",
     "exception": false,
     "start_time": "2023-08-04T02:13:27.381376",
     "status": "completed"
    },
    "tags": []
   },
   "outputs": [],
   "source": [
    "print(f'X_train : {len(train_x_paths)}')\n",
    "print(f'Y_train : {len(train_y_paths)}')\n",
    "print(f'X_val   : {len(val_x_paths)}')\n",
    "print(f'Y_val   : {len(val_y_paths)}')\n",
    "print(f'X_test  : {len(test_x_paths)}')\n",
    "print(f'Y_test  : {len(test_y_paths)}')"
   ]
  },
  {
   "cell_type": "markdown",
   "id": "e982ad68",
   "metadata": {
    "papermill": {
     "duration": 0.008153,
     "end_time": "2023-08-04T02:13:27.416150",
     "exception": false,
     "start_time": "2023-08-04T02:13:27.407997",
     "status": "completed"
    },
    "tags": []
   },
   "source": [
    "### **Create Model**"
   ]
  },
  {
   "cell_type": "code",
   "execution_count": null,
   "id": "49fad867",
   "metadata": {
    "execution": {
     "iopub.execute_input": "2023-08-04T02:13:27.434701Z",
     "iopub.status.busy": "2023-08-04T02:13:27.433982Z",
     "iopub.status.idle": "2023-08-04T02:13:27.445613Z",
     "shell.execute_reply": "2023-08-04T02:13:27.444505Z"
    },
    "papermill": {
     "duration": 0.024156,
     "end_time": "2023-08-04T02:13:27.448486",
     "exception": false,
     "start_time": "2023-08-04T02:13:27.424330",
     "status": "completed"
    },
    "tags": []
   },
   "outputs": [],
   "source": [
    "def channel_attention_module(x, ratio=8):\n",
    "    batch, _, _, channel = x.shape\n",
    "\n",
    "    ## Shared layers\n",
    "    l1 = Dense(channel//ratio, activation=\"relu\", use_bias=False)\n",
    "    l2 = Dense(channel, use_bias=False)\n",
    "\n",
    "    ## Global Average Pooling\n",
    "    x1 = GlobalAveragePooling2D()(x)\n",
    "    x1 = l1(x1)\n",
    "    x1 = l2(x1)\n",
    "\n",
    "    ## Global Max Pooling\n",
    "    x2 = GlobalMaxPooling2D()(x)\n",
    "    x2 = l1(x2)\n",
    "    x2 = l2(x2)\n",
    "\n",
    "    ## Add both the features and pass through sigmoid\n",
    "    feats = x1 + x2\n",
    "    feats = Activation(\"sigmoid\")(feats)\n",
    "    feats = Multiply()([x, feats])\n",
    "\n",
    "    return feats\n",
    "\n",
    "def spatial_attention_module(x):\n",
    "    ## Average Pooling\n",
    "    x1 = tf.reduce_mean(x, axis=-1)\n",
    "    x1 = tf.expand_dims(x1, axis=-1)\n",
    "\n",
    "    ## Max Pooling\n",
    "    x2 = tf.reduce_max(x, axis=-1)\n",
    "    x2 = tf.expand_dims(x2, axis=-1)\n",
    "\n",
    "    ## Concatenat both the features\n",
    "    feats = Concatenate()([x1, x2])\n",
    "    ## Conv layer\n",
    "    feats = Conv2D(1, kernel_size=7, padding=\"same\", activation=\"sigmoid\")(feats)\n",
    "    feats = Multiply()([x, feats])\n",
    "\n",
    "    return feats\n",
    "\n",
    "def CBAM(x):\n",
    "    x = channel_attention_module(x)\n",
    "    x = spatial_attention_module(x)\n",
    "    return x"
   ]
  },
  {
   "cell_type": "code",
   "execution_count": null,
   "id": "b2e1bd6d",
   "metadata": {
    "execution": {
     "iopub.execute_input": "2023-08-04T02:13:27.467774Z",
     "iopub.status.busy": "2023-08-04T02:13:27.467398Z",
     "iopub.status.idle": "2023-08-04T02:13:27.480704Z",
     "shell.execute_reply": "2023-08-04T02:13:27.479537Z"
    },
    "papermill": {
     "duration": 0.025588,
     "end_time": "2023-08-04T02:13:27.483003",
     "exception": false,
     "start_time": "2023-08-04T02:13:27.457415",
     "status": "completed"
    },
    "tags": []
   },
   "outputs": [],
   "source": [
    "def conv_block(input, num_filters):\n",
    "    x = Conv2D(num_filters, 3, padding=\"same\")(input)\n",
    "    x = BatchNormalization()(x)\n",
    "    x = Activation(\"relu\")(x)\n",
    "\n",
    "    x = Conv2D(num_filters, 3, padding=\"same\")(x)\n",
    "    x = BatchNormalization()(x)\n",
    "    x = Activation(\"relu\")(x)\n",
    "\n",
    "    return x\n",
    "\n",
    "def encoder_block(input, num_filters):\n",
    "    x = conv_block(input, num_filters)\n",
    "    p = MaxPool2D((2, 2))(x)\n",
    "    return x, p\n",
    "\n",
    "def decoder_block(input, skip_features, num_filters):\n",
    "    x = Conv2DTranspose(num_filters, (2, 2), strides=2, padding=\"same\")(input)\n",
    "    x = Concatenate()([x, skip_features])\n",
    "    x = conv_block(x, num_filters)\n",
    "    return x\n",
    "\n",
    "def build_model(input_shape):\n",
    "    inputs = Input(input_shape)\n",
    "\n",
    "    vgg_model = VGG16(include_top=False, weights=\"imagenet\",input_tensor=inputs)\n",
    "    vgg_model.trainable = False\n",
    "\n",
    "    # Encoder\n",
    "    s1 = vgg_model.get_layer(\"block1_conv2\").output                             ## (512 x 512)\n",
    "    s2 = vgg_model.get_layer(\"block2_conv2\").output                             ## (256 x 256)\n",
    "    s3 = vgg_model.get_layer(\"block3_conv3\").output                             ## (128 x 128)\n",
    "    s4 = vgg_model.get_layer(\"block4_conv3\").output                             ## (64 x 64)\n",
    "\n",
    "    b1 = vgg_model.get_layer(\"block5_conv3\").output                             ## (32 x 32)\n",
    "\n",
    "    # Attention\n",
    "    s1 = CBAM(s1)\n",
    "    s2 = CBAM(s2)\n",
    "    s3 = CBAM(s3)\n",
    "    s4 = CBAM(s4)\n",
    "\n",
    "    # Decoder\n",
    "    d1 = decoder_block(b1, s4, 512)                                             ## (64 x 64)\n",
    "    d2 = decoder_block(d1, s3, 256)                                             ## (128 x 128)\n",
    "    d3 = decoder_block(d2, s2, 128)                                             ## (256 x 256)\n",
    "    d4 = decoder_block(d3, s1, 64)                                              ## (512 x 512)\n",
    "\n",
    "    # Output\n",
    "    outputs = Conv2D(3, 1, padding=\"same\", activation=\"sigmoid\")(d4)\n",
    "\n",
    "    model = Model(inputs, outputs, name=\"LLE_UNET_undwerwater\")\n",
    "    return model\n"
   ]
  },
  {
   "cell_type": "code",
   "execution_count": null,
   "id": "a20d5caa",
   "metadata": {
    "execution": {
     "iopub.execute_input": "2023-08-04T02:13:27.502004Z",
     "iopub.status.busy": "2023-08-04T02:13:27.501615Z",
     "iopub.status.idle": "2023-08-04T02:13:31.997601Z",
     "shell.execute_reply": "2023-08-04T02:13:31.996415Z"
    },
    "papermill": {
     "duration": 4.552912,
     "end_time": "2023-08-04T02:13:32.044519",
     "exception": false,
     "start_time": "2023-08-04T02:13:27.491607",
     "status": "completed"
    },
    "tags": []
   },
   "outputs": [],
   "source": [
    "input_shape = (None, None, 3)\n",
    "model = build_model(input_shape)\n",
    "model.summary()"
   ]
  },
  {
   "cell_type": "code",
   "execution_count": null,
   "id": "da824849",
   "metadata": {
    "execution": {
     "iopub.execute_input": "2023-08-04T02:13:32.129647Z",
     "iopub.status.busy": "2023-08-04T02:13:32.129240Z",
     "iopub.status.idle": "2023-08-04T02:13:32.142425Z",
     "shell.execute_reply": "2023-08-04T02:13:32.141093Z"
    },
    "papermill": {
     "duration": 0.058924,
     "end_time": "2023-08-04T02:13:32.145043",
     "exception": false,
     "start_time": "2023-08-04T02:13:32.086119",
     "status": "completed"
    },
    "tags": []
   },
   "outputs": [],
   "source": [
    "#optimizer = tf.keras.optimizers.experimental.AdamW(learning_rate=0.0001,weight_decay=0.004)\n",
    "optimizer = tf.keras.optimizers.Adam(learning_rate=3e-4)\n",
    "MSEloss = tf.keras.losses.MeanSquaredError()\n",
    "\n",
    "def charbonnier_loss(y_true, y_pred):\n",
    "    return tf.reduce_mean(tf.sqrt(tf.square(y_true - y_pred) + tf.square(1e-3)))\n",
    "\n",
    "def psnr_loss_fn(y_true, y_pred):\n",
    "    return tf.image.psnr(y_pred, y_true, max_val=1.0)\n",
    "\n",
    "def ssim_loss_fn(y_true,y_pred):\n",
    "    return tf.image.ssim(y_true,y_pred,1.0)"
   ]
  },
  {
   "cell_type": "code",
   "execution_count": null,
   "id": "da47bdfa",
   "metadata": {
    "execution": {
     "iopub.execute_input": "2023-08-04T02:13:32.230132Z",
     "iopub.status.busy": "2023-08-04T02:13:32.229325Z",
     "iopub.status.idle": "2023-08-04T02:13:32.233774Z",
     "shell.execute_reply": "2023-08-04T02:13:32.232960Z"
    },
    "papermill": {
     "duration": 0.04931,
     "end_time": "2023-08-04T02:13:32.235914",
     "exception": false,
     "start_time": "2023-08-04T02:13:32.186604",
     "status": "completed"
    },
    "tags": []
   },
   "outputs": [],
   "source": [
    "model_path = r'/kaggle/input/train-lle-unet-for-underwater/LLE_UNET_UNDWERWATER.h5'"
   ]
  },
  {
   "cell_type": "code",
   "execution_count": null,
   "id": "88df26a4",
   "metadata": {
    "execution": {
     "iopub.execute_input": "2023-08-04T02:13:32.320458Z",
     "iopub.status.busy": "2023-08-04T02:13:32.320060Z",
     "iopub.status.idle": "2023-08-04T02:13:34.600324Z",
     "shell.execute_reply": "2023-08-04T02:13:34.599476Z"
    },
    "papermill": {
     "duration": 2.325676,
     "end_time": "2023-08-04T02:13:34.603012",
     "exception": false,
     "start_time": "2023-08-04T02:13:32.277336",
     "status": "completed"
    },
    "tags": []
   },
   "outputs": [],
   "source": [
    "from keras.models import load_model\n",
    "model = load_model(model_path,custom_objects={'charbonnier_loss': charbonnier_loss,\n",
    "                                              'psnr_loss_fn':psnr_loss_fn,\n",
    "                                              'ssim_loss_fn':ssim_loss_fn},\n",
    "                                              compile = False)"
   ]
  },
  {
   "cell_type": "markdown",
   "id": "3c097f73",
   "metadata": {
    "papermill": {
     "duration": 0.040992,
     "end_time": "2023-08-04T02:13:34.685477",
     "exception": false,
     "start_time": "2023-08-04T02:13:34.644485",
     "status": "completed"
    },
    "tags": []
   },
   "source": [
    "### **Preprocessing Functions**"
   ]
  },
  {
   "cell_type": "code",
   "execution_count": null,
   "id": "85546c14",
   "metadata": {
    "execution": {
     "iopub.execute_input": "2023-08-04T02:13:34.770253Z",
     "iopub.status.busy": "2023-08-04T02:13:34.769781Z",
     "iopub.status.idle": "2023-08-04T02:13:34.785155Z",
     "shell.execute_reply": "2023-08-04T02:13:34.783846Z"
    },
    "papermill": {
     "duration": 0.060812,
     "end_time": "2023-08-04T02:13:34.787812",
     "exception": false,
     "start_time": "2023-08-04T02:13:34.727000",
     "status": "completed"
    },
    "tags": []
   },
   "outputs": [],
   "source": [
    "def padding_calc(input_dim,multiplier=32):\n",
    "    return math.ceil(input_dim/multiplier)*multiplier - input_dim\n",
    "\n",
    "def pad_image(image,mood = \"center_padding\"):\n",
    "    img_h = image.shape[0]\n",
    "    img_w = image.shape[1]\n",
    "\n",
    "    pad_y = padding_calc(img_h)\n",
    "    pad_x = padding_calc(img_w)\n",
    "\n",
    "    if mood == \"center_padding\":\n",
    "        pad_y2 = pad_y//2\n",
    "        pad_x2 = pad_x//2\n",
    "\n",
    "        padded_img = image.copy()\n",
    "        if pad_y%2 != 0:\n",
    "            padded_img = np.pad(image, ((pad_y2, pad_y2+1), (pad_x2, pad_x2), (0, 0)), mode='constant')\n",
    "        if pad_x%2 != 0:\n",
    "            padded_img = np.pad(image, ((pad_y2, pad_y2), (pad_x2, pad_x2+1), (0, 0)), mode='constant')\n",
    "        if (pad_y%2 == 0) & (pad_x%2 == 0):\n",
    "            padded_img = np.pad(image, ((pad_y2, pad_y2), (pad_x2, pad_x2), (0, 0)), mode='constant')\n",
    "\n",
    "    elif mood == \"corner_padding\":\n",
    "        padded_img = np.pad(image, ((0, pad_y), (0, pad_x), (0, 0)), mode='constant')\n",
    "    return padded_img\n",
    "\n",
    "def inverse_padding(pad_image,image_dim,pad_method=\"center_padding\"):\n",
    "  pad_img_height = pad_image.shape[0]\n",
    "  pad_img_width = pad_image.shape[1]\n",
    "\n",
    "  img_height = image_dim[0]\n",
    "  img_width = image_dim[1]\n",
    "\n",
    "  if pad_method == \"center_padding\":\n",
    "    pad_y1 = (pad_img_height - img_height)//2\n",
    "    if pad_y1*2 == (pad_img_height - img_height):pad_y2 = pad_y1\n",
    "    else: pad_y2 = pad_y1+1\n",
    "\n",
    "    pad_x1 = (pad_img_width - img_width)//2\n",
    "    if pad_x1*2 == (pad_img_width - img_width):pad_x2 = pad_x1\n",
    "    else: pad_x2 = pad_x1+1\n",
    "    extract_image = pad_image[pad_y1:pad_img_height-pad_y2,pad_x1:pad_img_width-pad_x2]\n",
    "\n",
    "  if pad_method == \"corner_padding\":\n",
    "    extract_image = pad_image[0:img_height,0:img_width]\n",
    "\n",
    "\n",
    "  return extract_image"
   ]
  },
  {
   "cell_type": "code",
   "execution_count": null,
   "id": "515ba88a",
   "metadata": {
    "execution": {
     "iopub.execute_input": "2023-08-04T02:13:34.875149Z",
     "iopub.status.busy": "2023-08-04T02:13:34.873865Z",
     "iopub.status.idle": "2023-08-04T02:13:34.880723Z",
     "shell.execute_reply": "2023-08-04T02:13:34.879611Z"
    },
    "papermill": {
     "duration": 0.052482,
     "end_time": "2023-08-04T02:13:34.883267",
     "exception": false,
     "start_time": "2023-08-04T02:13:34.830785",
     "status": "completed"
    },
    "tags": []
   },
   "outputs": [],
   "source": [
    "def preprocess_image(img_path):\n",
    "    img = cv2.imread(img_path)\n",
    "    img = cv2.cvtColor(img, cv2.COLOR_BGR2RGB)\n",
    "    img = cv2.resize(img,(256,256))\n",
    "    preprocess_img = pad_image(img)\n",
    "    preprocess_img = preprocess_img/255;\n",
    "    return preprocess_img"
   ]
  },
  {
   "cell_type": "markdown",
   "id": "1667df27",
   "metadata": {
    "papermill": {
     "duration": 0.040914,
     "end_time": "2023-08-04T02:13:34.965954",
     "exception": false,
     "start_time": "2023-08-04T02:13:34.925040",
     "status": "completed"
    },
    "tags": []
   },
   "source": [
    "**Inference**"
   ]
  },
  {
   "cell_type": "code",
   "execution_count": null,
   "id": "d185b31e",
   "metadata": {
    "execution": {
     "iopub.execute_input": "2023-08-04T02:13:35.050126Z",
     "iopub.status.busy": "2023-08-04T02:13:35.049597Z",
     "iopub.status.idle": "2023-08-04T02:13:35.054594Z",
     "shell.execute_reply": "2023-08-04T02:13:35.053828Z"
    },
    "papermill": {
     "duration": 0.049325,
     "end_time": "2023-08-04T02:13:35.056645",
     "exception": false,
     "start_time": "2023-08-04T02:13:35.007320",
     "status": "completed"
    },
    "tags": []
   },
   "outputs": [],
   "source": [
    "results_save_dir = r'/kaggle/working/'"
   ]
  },
  {
   "cell_type": "code",
   "execution_count": null,
   "id": "3fe74e13",
   "metadata": {
    "execution": {
     "iopub.execute_input": "2023-08-04T02:13:35.142679Z",
     "iopub.status.busy": "2023-08-04T02:13:35.141940Z",
     "iopub.status.idle": "2023-08-04T02:13:35.151591Z",
     "shell.execute_reply": "2023-08-04T02:13:35.150659Z"
    },
    "papermill": {
     "duration": 0.055604,
     "end_time": "2023-08-04T02:13:35.153885",
     "exception": false,
     "start_time": "2023-08-04T02:13:35.098281",
     "status": "completed"
    },
    "tags": []
   },
   "outputs": [],
   "source": [
    "def infer(x_paths,y_paths,n_images,save_sufix='res',save=False):\n",
    "    for i,x_image_path in enumerate(x_paths):\n",
    "        if i == n_images:\n",
    "            break\n",
    "        print(f'{i+1}/{n_images} : {x_image_path}')\n",
    "        x_img = preprocess_image(x_image_path)\n",
    "        prediction = model.predict(np.expand_dims(x_img,axis=0),verbose=0)\n",
    "\n",
    "        y_img_path = y_paths[i]\n",
    "        y_img = preprocess_image(y_img_path)\n",
    "\n",
    "        fig, ax = plt.subplots(ncols=3, figsize=(15,10));\n",
    "        ax[0].imshow(x_img);\n",
    "        ax[1].imshow(prediction[0]);\n",
    "        ax[2].imshow(y_img);\n",
    "        ax[0].axis('off');\n",
    "        ax[1].axis('off');\n",
    "        ax[2].axis('off');\n",
    "        ax[0].set_title(\"UnderWater Image\")\n",
    "        ax[1].set_title(\"Predicted Image\")\n",
    "        ax[2].set_title(\"GroundTruth Image\")\n",
    "        save_path = os.path.join(results_save_dir,f'{save_sufix}_{i}.png')\n",
    "        plt.savefig(save_path, bbox_inches='tight', pad_inches=0)\n",
    "        plt.show()"
   ]
  },
  {
   "cell_type": "code",
   "execution_count": null,
   "id": "9aac5a96",
   "metadata": {
    "execution": {
     "iopub.execute_input": "2023-08-04T02:13:35.238891Z",
     "iopub.status.busy": "2023-08-04T02:13:35.238102Z",
     "iopub.status.idle": "2023-08-04T02:14:34.355944Z",
     "shell.execute_reply": "2023-08-04T02:14:34.354851Z"
    },
    "papermill": {
     "duration": 59.175277,
     "end_time": "2023-08-04T02:14:34.370161",
     "exception": false,
     "start_time": "2023-08-04T02:13:35.194884",
     "status": "completed"
    },
    "tags": []
   },
   "outputs": [],
   "source": [
    "# on test images\n",
    "infer(test_x_paths,test_y_paths,n_images=25,save=True)"
   ]
  },
  {
   "cell_type": "code",
   "execution_count": null,
   "id": "814677e0",
   "metadata": {
    "execution": {
     "iopub.execute_input": "2023-08-04T02:14:35.109903Z",
     "iopub.status.busy": "2023-08-04T02:14:35.109457Z",
     "iopub.status.idle": "2023-08-04T02:15:32.926007Z",
     "shell.execute_reply": "2023-08-04T02:15:32.924634Z"
    },
    "papermill": {
     "duration": 58.193607,
     "end_time": "2023-08-04T02:15:32.938643",
     "exception": false,
     "start_time": "2023-08-04T02:14:34.745036",
     "status": "completed"
    },
    "tags": []
   },
   "outputs": [],
   "source": [
    "infer(train_x_paths,train_y_paths,n_images=25,save_sufix='train_res',save=True)"
   ]
  }
 ],
 "metadata": {
  "kernelspec": {
   "display_name": "Python 3",
   "language": "python",
   "name": "python3"
  },
  "language_info": {
   "codemirror_mode": {
    "name": "ipython",
    "version": 3
   },
   "file_extension": ".py",
   "mimetype": "text/x-python",
   "name": "python",
   "nbconvert_exporter": "python",
   "pygments_lexer": "ipython3",
   "version": "3.10.12"
  },
  "papermill": {
   "default_parameters": {},
   "duration": 149.841421,
   "end_time": "2023-08-04T02:15:36.105170",
   "environment_variables": {},
   "exception": null,
   "input_path": "__notebook__.ipynb",
   "output_path": "__notebook__.ipynb",
   "parameters": {},
   "start_time": "2023-08-04T02:13:06.263749",
   "version": "2.4.0"
  }
 },
 "nbformat": 4,
 "nbformat_minor": 5
}
