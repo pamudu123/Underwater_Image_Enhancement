{
 "cells": [
  {
   "cell_type": "markdown",
   "id": "074056a7",
   "metadata": {
    "papermill": {
     "duration": 0.018245,
     "end_time": "2023-08-03T04:59:13.139527",
     "exception": false,
     "start_time": "2023-08-03T04:59:13.121282",
     "status": "completed"
    },
    "tags": []
   },
   "source": [
    "# **Train LLE_UENT for Underwater Image Enhancement**"
   ]
  },
  {
   "cell_type": "markdown",
   "id": "beaa1b53",
   "metadata": {
    "papermill": {
     "duration": 0.018001,
     "end_time": "2023-08-03T04:59:13.175721",
     "exception": false,
     "start_time": "2023-08-03T04:59:13.157720",
     "status": "completed"
    },
    "tags": []
   },
   "source": [
    "Date    - 02/08/2023\n",
    " \n",
    "Dataset - EUVP (Enhancing Underwater Visual Perception) Datset\n",
    "\n",
    "Trained on Kaggle using P100 GPU for 12 hours\n",
    "\n",
    "Kaggle link for notebook - https://www.kaggle.com/pamuduranasinghe/train-lle-unet-for-underwater/"
   ]
  },
  {
   "cell_type": "markdown",
   "id": "fe07fd2d",
   "metadata": {
    "papermill": {
     "duration": 0.017447,
     "end_time": "2023-08-03T04:59:13.212352",
     "exception": false,
     "start_time": "2023-08-03T04:59:13.194905",
     "status": "completed"
    },
    "tags": []
   },
   "source": [
    "*Find the complete implementation code for LLE_UNET on [GitHub](https://github.com/pamudu123/Low_Light_Image_Enhancement)*"
   ]
  },
  {
   "cell_type": "code",
   "execution_count": null,
   "id": "2802de6d",
   "metadata": {
    "execution": {
     "iopub.execute_input": "2023-08-03T04:59:13.248997Z",
     "iopub.status.busy": "2023-08-03T04:59:13.248516Z",
     "iopub.status.idle": "2023-08-03T04:59:13.261841Z",
     "shell.execute_reply": "2023-08-03T04:59:13.260811Z"
    },
    "papermill": {
     "duration": 0.034182,
     "end_time": "2023-08-03T04:59:13.264030",
     "exception": false,
     "start_time": "2023-08-03T04:59:13.229848",
     "status": "completed"
    },
    "tags": []
   },
   "outputs": [],
   "source": [
    "import os\n",
    "import random\n",
    "import csv"
   ]
  },
  {
   "cell_type": "markdown",
   "id": "ba788a5c",
   "metadata": {
    "papermill": {
     "duration": 0.012739,
     "end_time": "2023-08-03T04:59:13.289645",
     "exception": false,
     "start_time": "2023-08-03T04:59:13.276906",
     "status": "completed"
    },
    "tags": []
   },
   "source": [
    "## **Data Preperation**"
   ]
  },
  {
   "cell_type": "code",
   "execution_count": null,
   "id": "6fa122fd",
   "metadata": {
    "execution": {
     "iopub.execute_input": "2023-08-03T04:59:13.317710Z",
     "iopub.status.busy": "2023-08-03T04:59:13.317344Z",
     "iopub.status.idle": "2023-08-03T04:59:13.321971Z",
     "shell.execute_reply": "2023-08-03T04:59:13.320921Z"
    },
    "papermill": {
     "duration": 0.02134,
     "end_time": "2023-08-03T04:59:13.324167",
     "exception": false,
     "start_time": "2023-08-03T04:59:13.302827",
     "status": "completed"
    },
    "tags": []
   },
   "outputs": [],
   "source": [
    "datafolder = r'/kaggle/input/euvp-dataset/EUVP/Paired'"
   ]
  },
  {
   "cell_type": "code",
   "execution_count": null,
   "id": "a71879b8",
   "metadata": {
    "execution": {
     "iopub.execute_input": "2023-08-03T04:59:13.351159Z",
     "iopub.status.busy": "2023-08-03T04:59:13.350835Z",
     "iopub.status.idle": "2023-08-03T04:59:13.355511Z",
     "shell.execute_reply": "2023-08-03T04:59:13.354605Z"
    },
    "papermill": {
     "duration": 0.020762,
     "end_time": "2023-08-03T04:59:13.357804",
     "exception": false,
     "start_time": "2023-08-03T04:59:13.337042",
     "status": "completed"
    },
    "tags": []
   },
   "outputs": [],
   "source": [
    "# trainA - uderwater\n",
    "# trainB - groundtruth"
   ]
  },
  {
   "cell_type": "code",
   "execution_count": null,
   "id": "3d153910",
   "metadata": {
    "execution": {
     "iopub.execute_input": "2023-08-03T04:59:13.384361Z",
     "iopub.status.busy": "2023-08-03T04:59:13.384078Z",
     "iopub.status.idle": "2023-08-03T04:59:42.703659Z",
     "shell.execute_reply": "2023-08-03T04:59:42.702278Z"
    },
    "papermill": {
     "duration": 29.336114,
     "end_time": "2023-08-03T04:59:42.706367",
     "exception": false,
     "start_time": "2023-08-03T04:59:13.370253",
     "status": "completed"
    },
    "tags": []
   },
   "outputs": [],
   "source": [
    "underwater_img_paths = []\n",
    "groundtruth_img_paths = []\n",
    "\n",
    "for folder_name in os.listdir(datafolder):\n",
    "  underwater_img_dir = os.path.join(datafolder,folder_name,'trainA')\n",
    "  groundtruth_img_dir = os.path.join(datafolder,folder_name,'trainB')\n",
    "\n",
    "  # Check folders are exists\n",
    "  print(f'============== {folder_name} ==============')\n",
    "  if not os.path.exists(underwater_img_dir):\n",
    "    print(f\"{underwater_img_dir} : FOLDER NOT FOUND\")\n",
    "    continue\n",
    "\n",
    "  if not os.path.exists(groundtruth_img_dir):\n",
    "    print(f\"{groundtruth_img_dir} : FOLDER NOT FOUND\")\n",
    "    continue\n",
    "\n",
    "  underwater_img_names = os.listdir(underwater_img_dir)\n",
    "  for underwater_img_name in underwater_img_names:\n",
    "    underwater_img_path = os.path.join(underwater_img_dir,underwater_img_name)\n",
    "    groundtruth_img_path = os.path.join(groundtruth_img_dir,underwater_img_name)\n",
    "\n",
    "    # check groundtruth image exists\n",
    "    if not os.path.exists(groundtruth_img_path):\n",
    "      print(f\"{groundtruth_img_path} : FOLDER NOT FOUND\")\n",
    "      continue\n",
    "\n",
    "    underwater_img_paths.append(underwater_img_path)\n",
    "    groundtruth_img_paths.append(groundtruth_img_path)\n",
    "\n",
    "  print(f'n_underwater_images : {len(underwater_img_paths)} | n_groundtruth_images : {len(groundtruth_img_paths)} \\n')"
   ]
  },
  {
   "cell_type": "code",
   "execution_count": null,
   "id": "4f2eae96",
   "metadata": {
    "execution": {
     "iopub.execute_input": "2023-08-03T04:59:42.737254Z",
     "iopub.status.busy": "2023-08-03T04:59:42.736162Z",
     "iopub.status.idle": "2023-08-03T04:59:42.751438Z",
     "shell.execute_reply": "2023-08-03T04:59:42.750388Z"
    },
    "papermill": {
     "duration": 0.033435,
     "end_time": "2023-08-03T04:59:42.753999",
     "exception": false,
     "start_time": "2023-08-03T04:59:42.720564",
     "status": "completed"
    },
    "tags": []
   },
   "outputs": [],
   "source": [
    "underwater_img_paths = sorted(underwater_img_paths)\n",
    "groundtruth_img_paths = sorted(groundtruth_img_paths)"
   ]
  },
  {
   "cell_type": "markdown",
   "id": "4fe0735c",
   "metadata": {
    "papermill": {
     "duration": 0.014317,
     "end_time": "2023-08-03T04:59:42.782642",
     "exception": false,
     "start_time": "2023-08-03T04:59:42.768325",
     "status": "completed"
    },
    "tags": []
   },
   "source": [
    "**Train Validation Test Split**"
   ]
  },
  {
   "cell_type": "code",
   "execution_count": null,
   "id": "1a8abcb8",
   "metadata": {
    "execution": {
     "iopub.execute_input": "2023-08-03T04:59:42.812680Z",
     "iopub.status.busy": "2023-08-03T04:59:42.811724Z",
     "iopub.status.idle": "2023-08-03T04:59:42.816561Z",
     "shell.execute_reply": "2023-08-03T04:59:42.815614Z"
    },
    "papermill": {
     "duration": 0.021982,
     "end_time": "2023-08-03T04:59:42.818728",
     "exception": false,
     "start_time": "2023-08-03T04:59:42.796746",
     "status": "completed"
    },
    "tags": []
   },
   "outputs": [],
   "source": [
    "TRAIN_SPLIT      = 0.8\n",
    "VALIDATION_SPLIT = 0.1\n",
    "TEST_SPLIT       = 0.1"
   ]
  },
  {
   "cell_type": "code",
   "execution_count": null,
   "id": "e52d287d",
   "metadata": {
    "execution": {
     "iopub.execute_input": "2023-08-03T04:59:42.847267Z",
     "iopub.status.busy": "2023-08-03T04:59:42.846401Z",
     "iopub.status.idle": "2023-08-03T04:59:42.866516Z",
     "shell.execute_reply": "2023-08-03T04:59:42.865562Z"
    },
    "papermill": {
     "duration": 0.0366,
     "end_time": "2023-08-03T04:59:42.868584",
     "exception": false,
     "start_time": "2023-08-03T04:59:42.831984",
     "status": "completed"
    },
    "tags": []
   },
   "outputs": [],
   "source": [
    "# Combine the groundtruth and noise image paths into tuples\n",
    "image_pairs = list(zip(underwater_img_paths,groundtruth_img_paths))\n",
    "\n",
    "# Shuffle the image pairs randomly\n",
    "random.shuffle(image_pairs)\n",
    "\n",
    "# Calculate the number of samples for each split based on the ratios\n",
    "total_samples = len(image_pairs)\n",
    "train_samples = int(TRAIN_SPLIT * total_samples)\n",
    "val_samples = int(VALIDATION_SPLIT * total_samples)\n",
    "test_samples = total_samples - train_samples - val_samples\n",
    "\n",
    "# Split the data into train, validation, and test sets\n",
    "train_data = image_pairs[:train_samples]\n",
    "val_data = image_pairs[train_samples:train_samples + val_samples]\n",
    "test_data = image_pairs[train_samples + val_samples:]"
   ]
  },
  {
   "cell_type": "markdown",
   "id": "b1f77041",
   "metadata": {
    "papermill": {
     "duration": 0.01295,
     "end_time": "2023-08-03T04:59:42.894652",
     "exception": false,
     "start_time": "2023-08-03T04:59:42.881702",
     "status": "completed"
    },
    "tags": []
   },
   "source": [
    "**save image paths as csv files for easy data loading**"
   ]
  },
  {
   "cell_type": "code",
   "execution_count": null,
   "id": "79b29ca8",
   "metadata": {
    "execution": {
     "iopub.execute_input": "2023-08-03T04:59:42.922377Z",
     "iopub.status.busy": "2023-08-03T04:59:42.921969Z",
     "iopub.status.idle": "2023-08-03T04:59:43.022259Z",
     "shell.execute_reply": "2023-08-03T04:59:43.021213Z"
    },
    "papermill": {
     "duration": 0.117109,
     "end_time": "2023-08-03T04:59:43.025154",
     "exception": false,
     "start_time": "2023-08-03T04:59:42.908045",
     "status": "completed"
    },
    "tags": []
   },
   "outputs": [],
   "source": [
    "### Optional\n",
    "# Save the data into separate CSV files\n",
    "def save_to_csv(file_path, data):\n",
    "    with open(file_path, 'w', newline='') as csvfile:\n",
    "        writer = csv.writer(csvfile)\n",
    "        writer.writerow(['UnderWater Images', 'GroundTruth Images'])\n",
    "        writer.writerows(data)\n",
    "\n",
    "save_to_csv('train.csv', train_data)\n",
    "save_to_csv('validation.csv', val_data)\n",
    "save_to_csv('test.csv', test_data)"
   ]
  },
  {
   "cell_type": "markdown",
   "id": "b82a9993",
   "metadata": {
    "papermill": {
     "duration": 0.013724,
     "end_time": "2023-08-03T04:59:43.052933",
     "exception": false,
     "start_time": "2023-08-03T04:59:43.039209",
     "status": "completed"
    },
    "tags": []
   },
   "source": [
    "# **Training LLE_UNET**"
   ]
  },
  {
   "cell_type": "code",
   "execution_count": null,
   "id": "7ef7952d",
   "metadata": {
    "execution": {
     "iopub.execute_input": "2023-08-03T04:59:43.082010Z",
     "iopub.status.busy": "2023-08-03T04:59:43.081642Z",
     "iopub.status.idle": "2023-08-03T04:59:52.761210Z",
     "shell.execute_reply": "2023-08-03T04:59:52.760082Z"
    },
    "papermill": {
     "duration": 9.697489,
     "end_time": "2023-08-03T04:59:52.764224",
     "exception": false,
     "start_time": "2023-08-03T04:59:43.066735",
     "status": "completed"
    },
    "tags": []
   },
   "outputs": [],
   "source": [
    "import cv2\n",
    "import sys\n",
    "import pandas as pd\n",
    "import numpy as np\n",
    "from matplotlib import pyplot as plt\n",
    "import math\n",
    "import random\n",
    "\n",
    "\n",
    "import tensorflow as tf\n",
    "from tensorflow.keras.layers import Dense, Activation, Concatenate, GlobalAveragePooling2D, Multiply,GlobalMaxPooling2D\n",
    "from tensorflow.keras.layers import Conv2D, BatchNormalization, MaxPool2D, Conv2DTranspose, Input\n",
    "from tensorflow.keras.models import Model\n",
    "from tensorflow.keras.applications.vgg16 import VGG16"
   ]
  },
  {
   "cell_type": "markdown",
   "id": "565aa64a",
   "metadata": {
    "papermill": {
     "duration": 0.013853,
     "end_time": "2023-08-03T04:59:52.792041",
     "exception": false,
     "start_time": "2023-08-03T04:59:52.778188",
     "status": "completed"
    },
    "tags": []
   },
   "source": [
    "**Padding Mechanism**"
   ]
  },
  {
   "cell_type": "code",
   "execution_count": null,
   "id": "445eab92",
   "metadata": {
    "execution": {
     "iopub.execute_input": "2023-08-03T04:59:52.820676Z",
     "iopub.status.busy": "2023-08-03T04:59:52.819962Z",
     "iopub.status.idle": "2023-08-03T04:59:52.834701Z",
     "shell.execute_reply": "2023-08-03T04:59:52.833637Z"
    },
    "papermill": {
     "duration": 0.031898,
     "end_time": "2023-08-03T04:59:52.837140",
     "exception": false,
     "start_time": "2023-08-03T04:59:52.805242",
     "status": "completed"
    },
    "tags": []
   },
   "outputs": [],
   "source": [
    "def padding_calc(input_dim,multiplier=32):\n",
    "    return math.ceil(input_dim/multiplier)*multiplier - input_dim\n",
    "\n",
    "# Add Padding\n",
    "def pad_image(image,mood = \"center_padding\"):\n",
    "    img_h = image.shape[0]\n",
    "    img_w = image.shape[1]\n",
    "\n",
    "    pad_y = padding_calc(img_h)\n",
    "    pad_x = padding_calc(img_w)\n",
    "\n",
    "    if mood == \"center_padding\":\n",
    "        pad_y2 = pad_y//2\n",
    "        pad_x2 = pad_x//2\n",
    "\n",
    "        padded_img = image.copy()\n",
    "        if pad_y%2 != 0:\n",
    "            padded_img = np.pad(image, ((pad_y2, pad_y2+1), (pad_x2, pad_x2), (0, 0)), mode='constant')\n",
    "        if pad_x%2 != 0:\n",
    "            padded_img = np.pad(image, ((pad_y2, pad_y2), (pad_x2, pad_x2+1), (0, 0)), mode='constant')\n",
    "        if (pad_y%2 == 0) & (pad_x%2 == 0):\n",
    "            padded_img = np.pad(image, ((pad_y2, pad_y2), (pad_x2, pad_x2), (0, 0)), mode='constant')\n",
    "\n",
    "    elif mood == \"corner_padding\":\n",
    "        padded_img = np.pad(image, ((0, pad_y), (0, pad_x), (0, 0)), mode='constant')\n",
    "    return padded_img\n",
    "\n",
    "# Remove Padding\n",
    "def inverse_padding(pad_image,image_dim,pad_method=\"center_padding\"):\n",
    "  pad_img_height = pad_image.shape[0]\n",
    "  pad_img_width = pad_image.shape[1]\n",
    "\n",
    "  img_height = image_dim[0]\n",
    "  img_width = image_dim[1]\n",
    "\n",
    "  if pad_method == \"center_padding\":\n",
    "    pad_y1 = (pad_img_height - img_height)//2\n",
    "    if pad_y1*2 == (pad_img_height - img_height):pad_y2 = pad_y1\n",
    "    else: pad_y2 = pad_y1+1\n",
    "\n",
    "    pad_x1 = (pad_img_width - img_width)//2\n",
    "    if pad_x1*2 == (pad_img_width - img_width):pad_x2 = pad_x1\n",
    "    else: pad_x2 = pad_x1+1\n",
    "    extract_image = pad_image[pad_y1:pad_img_height-pad_y2,pad_x1:pad_img_width-pad_x2]\n",
    "\n",
    "  if pad_method == \"corner_padding\":\n",
    "    extract_image = pad_image[0:img_height,0:img_width]\n",
    "\n",
    "\n",
    "  return extract_image"
   ]
  },
  {
   "cell_type": "code",
   "execution_count": null,
   "id": "6c744bcf",
   "metadata": {
    "execution": {
     "iopub.execute_input": "2023-08-03T04:59:52.865531Z",
     "iopub.status.busy": "2023-08-03T04:59:52.865208Z",
     "iopub.status.idle": "2023-08-03T04:59:52.871703Z",
     "shell.execute_reply": "2023-08-03T04:59:52.870786Z"
    },
    "papermill": {
     "duration": 0.023338,
     "end_time": "2023-08-03T04:59:52.873792",
     "exception": false,
     "start_time": "2023-08-03T04:59:52.850454",
     "status": "completed"
    },
    "tags": []
   },
   "outputs": [],
   "source": [
    "# set Radndom Seed\n",
    "SEED = 0\n",
    "np.random.seed(SEED)\n",
    "tf.random.set_seed(SEED)\n",
    "tf.config.run_functions_eagerly(True)"
   ]
  },
  {
   "cell_type": "code",
   "execution_count": null,
   "id": "446d272c",
   "metadata": {
    "execution": {
     "iopub.execute_input": "2023-08-03T04:59:52.903032Z",
     "iopub.status.busy": "2023-08-03T04:59:52.902679Z",
     "iopub.status.idle": "2023-08-03T04:59:52.910873Z",
     "shell.execute_reply": "2023-08-03T04:59:52.909484Z"
    },
    "papermill": {
     "duration": 0.025487,
     "end_time": "2023-08-03T04:59:52.913293",
     "exception": false,
     "start_time": "2023-08-03T04:59:52.887806",
     "status": "completed"
    },
    "tags": []
   },
   "outputs": [],
   "source": [
    "## test image padding mechanism\n",
    "test_H = 300\n",
    "test_W = 533\n",
    "test_image = np.zeros((test_H, test_W, 3), dtype=np.uint8)\n",
    "img_pad = pad_image(test_image,'center_padding')\n",
    "print(test_image.shape,img_pad.shape)"
   ]
  },
  {
   "cell_type": "code",
   "execution_count": null,
   "id": "dd4050e1",
   "metadata": {
    "execution": {
     "iopub.execute_input": "2023-08-03T04:59:52.943876Z",
     "iopub.status.busy": "2023-08-03T04:59:52.943530Z",
     "iopub.status.idle": "2023-08-03T04:59:52.951427Z",
     "shell.execute_reply": "2023-08-03T04:59:52.950527Z"
    },
    "papermill": {
     "duration": 0.025152,
     "end_time": "2023-08-03T04:59:52.953556",
     "exception": false,
     "start_time": "2023-08-03T04:59:52.928404",
     "status": "completed"
    },
    "tags": []
   },
   "outputs": [],
   "source": [
    "# Load train test validation image paths form csv files \n",
    "def load_excel_data(file_path, column1_name='UnderWater Images', column2_name='GroundTruth Images', sheet_name=\"Sheet1\"):\n",
    "    try:\n",
    "        # Load the Excel file\n",
    "        df = pd.read_csv(file_path)\n",
    "\n",
    "        # Extract the data from the specified columns\n",
    "        column1_data = df[column1_name].tolist()\n",
    "        column2_data = df[column2_name].tolist()\n",
    "\n",
    "        return column1_data, column2_data\n",
    "\n",
    "    except Exception as e:\n",
    "        print(f\"Error occurred while loading data from Excel: {e}\")\n",
    "        return None, None"
   ]
  },
  {
   "cell_type": "code",
   "execution_count": null,
   "id": "0cf4a99b",
   "metadata": {
    "execution": {
     "iopub.execute_input": "2023-08-03T04:59:52.982732Z",
     "iopub.status.busy": "2023-08-03T04:59:52.981183Z",
     "iopub.status.idle": "2023-08-03T04:59:53.031940Z",
     "shell.execute_reply": "2023-08-03T04:59:53.030912Z"
    },
    "papermill": {
     "duration": 0.067649,
     "end_time": "2023-08-03T04:59:53.034703",
     "exception": false,
     "start_time": "2023-08-03T04:59:52.967054",
     "status": "completed"
    },
    "tags": []
   },
   "outputs": [],
   "source": [
    "train_csv_path = r'/kaggle/working/train.csv'\n",
    "test_csv_path = r'/kaggle/working/test.csv'\n",
    "validation_csv_path = r'/kaggle/working/validation.csv'\n",
    "\n",
    "\n",
    "train_x_paths, train_y_paths = load_excel_data(train_csv_path)\n",
    "val_x_paths, val_y_paths = load_excel_data(validation_csv_path)\n",
    "test_x_paths, test_y_paths = load_excel_data(test_csv_path)"
   ]
  },
  {
   "cell_type": "code",
   "execution_count": null,
   "id": "c535554e",
   "metadata": {
    "execution": {
     "iopub.execute_input": "2023-08-03T04:59:53.064025Z",
     "iopub.status.busy": "2023-08-03T04:59:53.063096Z",
     "iopub.status.idle": "2023-08-03T04:59:53.077052Z",
     "shell.execute_reply": "2023-08-03T04:59:53.076143Z"
    },
    "papermill": {
     "duration": 0.030429,
     "end_time": "2023-08-03T04:59:53.079074",
     "exception": false,
     "start_time": "2023-08-03T04:59:53.048645",
     "status": "completed"
    },
    "tags": []
   },
   "outputs": [],
   "source": [
    "train_x_paths = sorted(train_x_paths)\n",
    "train_y_paths = sorted(train_y_paths)\n",
    "val_x_paths = sorted(val_x_paths)\n",
    "val_y_paths = sorted(val_y_paths)\n",
    "test_x_paths = sorted(test_x_paths)\n",
    "test_y_paths = sorted(test_y_paths)"
   ]
  },
  {
   "cell_type": "code",
   "execution_count": null,
   "id": "86bdf932",
   "metadata": {
    "execution": {
     "iopub.execute_input": "2023-08-03T04:59:53.107613Z",
     "iopub.status.busy": "2023-08-03T04:59:53.106595Z",
     "iopub.status.idle": "2023-08-03T04:59:53.113772Z",
     "shell.execute_reply": "2023-08-03T04:59:53.112170Z"
    },
    "papermill": {
     "duration": 0.023746,
     "end_time": "2023-08-03T04:59:53.115972",
     "exception": false,
     "start_time": "2023-08-03T04:59:53.092226",
     "status": "completed"
    },
    "tags": []
   },
   "outputs": [],
   "source": [
    "print(f'X_train : {len(train_x_paths)}')\n",
    "print(f'Y_train : {len(train_y_paths)}')\n",
    "print(f'X_val   : {len(val_x_paths)}')\n",
    "print(f'Y_val   : {len(val_y_paths)}')\n",
    "print(f'X_test  : {len(test_x_paths)}')\n",
    "print(f'Y_test  : {len(test_y_paths)}')"
   ]
  },
  {
   "cell_type": "code",
   "execution_count": null,
   "id": "1b2b003e",
   "metadata": {
    "execution": {
     "iopub.execute_input": "2023-08-03T04:59:53.144891Z",
     "iopub.status.busy": "2023-08-03T04:59:53.144533Z",
     "iopub.status.idle": "2023-08-03T04:59:53.413431Z",
     "shell.execute_reply": "2023-08-03T04:59:53.412392Z"
    },
    "papermill": {
     "duration": 0.286006,
     "end_time": "2023-08-03T04:59:53.415828",
     "exception": false,
     "start_time": "2023-08-03T04:59:53.129822",
     "status": "completed"
    },
    "tags": []
   },
   "outputs": [],
   "source": [
    "# Avoid OOM errors by setting GPU Memory Consumption Growth\n",
    "gpus = tf.config.experimental.list_physical_devices('GPU')\n",
    "for gpu in gpus:\n",
    "    tf.config.experimental.set_memory_growth(gpu, True)"
   ]
  },
  {
   "cell_type": "code",
   "execution_count": null,
   "id": "356fd0bf",
   "metadata": {
    "execution": {
     "iopub.execute_input": "2023-08-03T04:59:53.446354Z",
     "iopub.status.busy": "2023-08-03T04:59:53.445393Z",
     "iopub.status.idle": "2023-08-03T04:59:53.453252Z",
     "shell.execute_reply": "2023-08-03T04:59:53.452379Z"
    },
    "papermill": {
     "duration": 0.02514,
     "end_time": "2023-08-03T04:59:53.455386",
     "exception": false,
     "start_time": "2023-08-03T04:59:53.430246",
     "status": "completed"
    },
    "tags": []
   },
   "outputs": [],
   "source": [
    "@tf.function\n",
    "def load_image_file(file_path):\n",
    "    file_path = file_path.numpy().decode(\"utf-8\")\n",
    "    img = cv2.imread(file_path)\n",
    "    img = cv2.cvtColor(img, cv2.COLOR_BGR2RGB)\n",
    "    img = cv2.resize(img,(256,256))\n",
    "    # img = cv2.resize(img,(0,0),fx=0.5, fy=0.5)\n",
    "    preprocess_img = pad_image(img)\n",
    "    preprocess_img = preprocess_img/255\n",
    "    return preprocess_img\n",
    "\n",
    "def image_dataset(image_list):\n",
    "    files = tf.data.Dataset.from_tensor_slices(image_list)\n",
    "    dataset = files.map(lambda x: tf.py_function(load_image_file, [x], tf.float32))\n",
    "    return dataset"
   ]
  },
  {
   "cell_type": "code",
   "execution_count": null,
   "id": "85a08c28",
   "metadata": {
    "execution": {
     "iopub.execute_input": "2023-08-03T04:59:53.484009Z",
     "iopub.status.busy": "2023-08-03T04:59:53.483673Z",
     "iopub.status.idle": "2023-08-03T04:59:53.488057Z",
     "shell.execute_reply": "2023-08-03T04:59:53.487145Z"
    },
    "papermill": {
     "duration": 0.021267,
     "end_time": "2023-08-03T04:59:53.490153",
     "exception": false,
     "start_time": "2023-08-03T04:59:53.468886",
     "status": "completed"
    },
    "tags": []
   },
   "outputs": [],
   "source": [
    "BATCH_SIZE = 8"
   ]
  },
  {
   "cell_type": "code",
   "execution_count": null,
   "id": "2da9efc2",
   "metadata": {
    "execution": {
     "iopub.execute_input": "2023-08-03T04:59:53.518715Z",
     "iopub.status.busy": "2023-08-03T04:59:53.518384Z",
     "iopub.status.idle": "2023-08-03T04:59:56.380078Z",
     "shell.execute_reply": "2023-08-03T04:59:56.379040Z"
    },
    "papermill": {
     "duration": 2.878521,
     "end_time": "2023-08-03T04:59:56.382398",
     "exception": false,
     "start_time": "2023-08-03T04:59:53.503877",
     "status": "completed"
    },
    "tags": []
   },
   "outputs": [],
   "source": [
    "train_x = image_dataset(list(train_x_paths))\n",
    "train_y = image_dataset(list(train_y_paths))\n",
    "\n",
    "\n",
    "# combine input and output\n",
    "train = tf.data.Dataset.zip((train_x, train_y))\n",
    "# train = train.take(100)\n",
    "# train = train.shuffle(100)\n",
    "train = train.batch(BATCH_SIZE)\n",
    "train.prefetch(tf.data.AUTOTUNE)"
   ]
  },
  {
   "cell_type": "code",
   "execution_count": null,
   "id": "9a61f3e0",
   "metadata": {
    "execution": {
     "iopub.execute_input": "2023-08-03T04:59:56.413940Z",
     "iopub.status.busy": "2023-08-03T04:59:56.412975Z",
     "iopub.status.idle": "2023-08-03T04:59:56.445231Z",
     "shell.execute_reply": "2023-08-03T04:59:56.444041Z"
    },
    "papermill": {
     "duration": 0.050338,
     "end_time": "2023-08-03T04:59:56.447772",
     "exception": false,
     "start_time": "2023-08-03T04:59:56.397434",
     "status": "completed"
    },
    "tags": []
   },
   "outputs": [],
   "source": [
    "val_x = image_dataset(list(val_x_paths))\n",
    "val_y = image_dataset(list(val_y_paths))\n",
    "\n",
    "# combine input and output\n",
    "val = tf.data.Dataset.zip((val_x, val_y))\n",
    "# train = train.shuffle(100)\n",
    "val = val.batch(BATCH_SIZE)\n",
    "val.prefetch(tf.data.AUTOTUNE)"
   ]
  },
  {
   "cell_type": "code",
   "execution_count": null,
   "id": "0e43718a",
   "metadata": {
    "execution": {
     "iopub.execute_input": "2023-08-03T04:59:56.478384Z",
     "iopub.status.busy": "2023-08-03T04:59:56.477416Z",
     "iopub.status.idle": "2023-08-03T04:59:56.509365Z",
     "shell.execute_reply": "2023-08-03T04:59:56.508340Z"
    },
    "papermill": {
     "duration": 0.049473,
     "end_time": "2023-08-03T04:59:56.511479",
     "exception": false,
     "start_time": "2023-08-03T04:59:56.462006",
     "status": "completed"
    },
    "tags": []
   },
   "outputs": [],
   "source": [
    "test_x = image_dataset(list(test_x_paths))\n",
    "test_y = image_dataset(list(test_y_paths))\n",
    "\n",
    "# combine input and output\n",
    "test = tf.data.Dataset.zip((test_x, test_y))\n",
    "# test = test.shuffle(100)\n",
    "test = test.batch(BATCH_SIZE)\n",
    "test.prefetch(tf.data.AUTOTUNE)"
   ]
  },
  {
   "cell_type": "code",
   "execution_count": null,
   "id": "96f4f68e",
   "metadata": {
    "execution": {
     "iopub.execute_input": "2023-08-03T04:59:56.543487Z",
     "iopub.status.busy": "2023-08-03T04:59:56.541813Z",
     "iopub.status.idle": "2023-08-03T04:59:56.833323Z",
     "shell.execute_reply": "2023-08-03T04:59:56.832203Z"
    },
    "papermill": {
     "duration": 0.309962,
     "end_time": "2023-08-03T04:59:56.836395",
     "exception": false,
     "start_time": "2023-08-03T04:59:56.526433",
     "status": "completed"
    },
    "tags": []
   },
   "outputs": [],
   "source": [
    "sample = train.take(1)\n",
    "train_sample = sample.as_numpy_iterator()\n",
    "res = train_sample.next()\n",
    "\n",
    "underwater_img1 = res[0][0]\n",
    "groundtruth_img1 = res[1][0]"
   ]
  },
  {
   "cell_type": "code",
   "execution_count": null,
   "id": "4a84928d",
   "metadata": {
    "execution": {
     "iopub.execute_input": "2023-08-03T04:59:56.868939Z",
     "iopub.status.busy": "2023-08-03T04:59:56.868611Z",
     "iopub.status.idle": "2023-08-03T04:59:57.386546Z",
     "shell.execute_reply": "2023-08-03T04:59:57.385470Z"
    },
    "papermill": {
     "duration": 0.539267,
     "end_time": "2023-08-03T04:59:57.391641",
     "exception": false,
     "start_time": "2023-08-03T04:59:56.852374",
     "status": "completed"
    },
    "tags": []
   },
   "outputs": [],
   "source": [
    "fig, axs = plt.subplots(ncols=2);\n",
    "axs[0].imshow(underwater_img1);\n",
    "axs[1].imshow(groundtruth_img1);"
   ]
  },
  {
   "cell_type": "markdown",
   "id": "39ee3f73",
   "metadata": {
    "papermill": {
     "duration": 0.018138,
     "end_time": "2023-08-03T04:59:57.428432",
     "exception": false,
     "start_time": "2023-08-03T04:59:57.410294",
     "status": "completed"
    },
    "tags": []
   },
   "source": [
    "### **LLE_UNET**"
   ]
  },
  {
   "cell_type": "markdown",
   "id": "f8e24f7d",
   "metadata": {
    "papermill": {
     "duration": 0.016998,
     "end_time": "2023-08-03T04:59:57.463679",
     "exception": false,
     "start_time": "2023-08-03T04:59:57.446681",
     "status": "completed"
    },
    "tags": []
   },
   "source": [
    "*CBAM Attention*"
   ]
  },
  {
   "cell_type": "code",
   "execution_count": null,
   "id": "36ce2c4f",
   "metadata": {
    "execution": {
     "iopub.execute_input": "2023-08-03T04:59:57.501155Z",
     "iopub.status.busy": "2023-08-03T04:59:57.500804Z",
     "iopub.status.idle": "2023-08-03T04:59:57.510906Z",
     "shell.execute_reply": "2023-08-03T04:59:57.509890Z"
    },
    "papermill": {
     "duration": 0.03168,
     "end_time": "2023-08-03T04:59:57.512909",
     "exception": false,
     "start_time": "2023-08-03T04:59:57.481229",
     "status": "completed"
    },
    "tags": []
   },
   "outputs": [],
   "source": [
    "def channel_attention_module(x, ratio=8):\n",
    "    batch, _, _, channel = x.shape\n",
    "\n",
    "    ## Shared layers\n",
    "    l1 = Dense(channel//ratio, activation=\"relu\", use_bias=False)\n",
    "    l2 = Dense(channel, use_bias=False)\n",
    "\n",
    "    ## Global Average Pooling\n",
    "    x1 = GlobalAveragePooling2D()(x)\n",
    "    x1 = l1(x1)\n",
    "    x1 = l2(x1)\n",
    "\n",
    "    ## Global Max Pooling\n",
    "    x2 = GlobalMaxPooling2D()(x)\n",
    "    x2 = l1(x2)\n",
    "    x2 = l2(x2)\n",
    "\n",
    "    ## Add both the features and pass through sigmoid\n",
    "    feats = x1 + x2\n",
    "    feats = Activation(\"sigmoid\")(feats)\n",
    "    feats = Multiply()([x, feats])\n",
    "\n",
    "    return feats\n",
    "\n",
    "def spatial_attention_module(x):\n",
    "    ## Average Pooling\n",
    "    x1 = tf.reduce_mean(x, axis=-1)\n",
    "    x1 = tf.expand_dims(x1, axis=-1)\n",
    "\n",
    "    ## Max Pooling\n",
    "    x2 = tf.reduce_max(x, axis=-1)\n",
    "    x2 = tf.expand_dims(x2, axis=-1)\n",
    "\n",
    "    ## Concatenat both the features\n",
    "    feats = Concatenate()([x1, x2])\n",
    "    ## Conv layer\n",
    "    feats = Conv2D(1, kernel_size=7, padding=\"same\", activation=\"sigmoid\")(feats)\n",
    "    feats = Multiply()([x, feats])\n",
    "\n",
    "    return feats\n",
    "\n",
    "def CBAM(x):\n",
    "    x = channel_attention_module(x)\n",
    "    x = spatial_attention_module(x)\n",
    "    return x"
   ]
  },
  {
   "cell_type": "markdown",
   "id": "02b4c76d",
   "metadata": {
    "papermill": {
     "duration": 0.017971,
     "end_time": "2023-08-03T04:59:57.549211",
     "exception": false,
     "start_time": "2023-08-03T04:59:57.531240",
     "status": "completed"
    },
    "tags": []
   },
   "source": [
    "**LLE_UNET Blocks**"
   ]
  },
  {
   "cell_type": "code",
   "execution_count": null,
   "id": "c0ee9e40",
   "metadata": {
    "execution": {
     "iopub.execute_input": "2023-08-03T04:59:57.587077Z",
     "iopub.status.busy": "2023-08-03T04:59:57.585870Z",
     "iopub.status.idle": "2023-08-03T04:59:57.599077Z",
     "shell.execute_reply": "2023-08-03T04:59:57.597905Z"
    },
    "papermill": {
     "duration": 0.034794,
     "end_time": "2023-08-03T04:59:57.601302",
     "exception": false,
     "start_time": "2023-08-03T04:59:57.566508",
     "status": "completed"
    },
    "tags": []
   },
   "outputs": [],
   "source": [
    "def conv_block(input, num_filters):\n",
    "    x = Conv2D(num_filters, 3, padding=\"same\")(input)\n",
    "    x = BatchNormalization()(x)\n",
    "    x = Activation(\"relu\")(x)\n",
    "\n",
    "    x = Conv2D(num_filters, 3, padding=\"same\")(x)\n",
    "    x = BatchNormalization()(x)\n",
    "    x = Activation(\"relu\")(x)\n",
    "\n",
    "    return x\n",
    "\n",
    "def encoder_block(input, num_filters):\n",
    "    x = conv_block(input, num_filters)\n",
    "    p = MaxPool2D((2, 2))(x)\n",
    "    return x, p\n",
    "\n",
    "def decoder_block(input, skip_features, num_filters):\n",
    "    x = Conv2DTranspose(num_filters, (2, 2), strides=2, padding=\"same\")(input)\n",
    "    x = Concatenate()([x, skip_features])\n",
    "    x = conv_block(x, num_filters)\n",
    "    return x\n",
    "\n",
    "def build_model(input_shape):\n",
    "    inputs = Input(input_shape)\n",
    "\n",
    "    vgg_model = VGG16(include_top=False, weights=\"imagenet\",input_tensor=inputs)\n",
    "    vgg_model.trainable = False\n",
    "\n",
    "    # Encoder\n",
    "    s1 = vgg_model.get_layer(\"block1_conv2\").output                             ## (512 x 512)\n",
    "    s2 = vgg_model.get_layer(\"block2_conv2\").output                             ## (256 x 256)\n",
    "    s3 = vgg_model.get_layer(\"block3_conv3\").output                             ## (128 x 128)\n",
    "    s4 = vgg_model.get_layer(\"block4_conv3\").output                             ## (64 x 64)\n",
    "\n",
    "    b1 = vgg_model.get_layer(\"block5_conv3\").output                             ## (32 x 32)\n",
    "\n",
    "    # Attention\n",
    "    s1 = CBAM(s1)\n",
    "    s2 = CBAM(s2)\n",
    "    s3 = CBAM(s3)\n",
    "    s4 = CBAM(s4)\n",
    "\n",
    "    # Decoder\n",
    "    d1 = decoder_block(b1, s4, 512)                                             ## (64 x 64)\n",
    "    d2 = decoder_block(d1, s3, 256)                                             ## (128 x 128)\n",
    "    d3 = decoder_block(d2, s2, 128)                                             ## (256 x 256)\n",
    "    d4 = decoder_block(d3, s1, 64)                                              ## (512 x 512)\n",
    "\n",
    "    # Output\n",
    "    outputs = Conv2D(3, 1, padding=\"same\", activation=\"sigmoid\")(d4)\n",
    "\n",
    "    model = Model(inputs, outputs, name=\"LLE_UNET_undwerwater\")\n",
    "    return model\n"
   ]
  },
  {
   "cell_type": "code",
   "execution_count": null,
   "id": "be4236d8",
   "metadata": {
    "execution": {
     "iopub.execute_input": "2023-08-03T04:59:57.643347Z",
     "iopub.status.busy": "2023-08-03T04:59:57.643017Z",
     "iopub.status.idle": "2023-08-03T04:59:59.648765Z",
     "shell.execute_reply": "2023-08-03T04:59:59.638791Z"
    },
    "papermill": {
     "duration": 2.276487,
     "end_time": "2023-08-03T04:59:59.897227",
     "exception": false,
     "start_time": "2023-08-03T04:59:57.620740",
     "status": "completed"
    },
    "tags": []
   },
   "outputs": [],
   "source": [
    "input_shape = (None, None, 3)\n",
    "model = build_model(input_shape)\n",
    "model.summary()"
   ]
  },
  {
   "cell_type": "code",
   "execution_count": null,
   "id": "6dc36653",
   "metadata": {
    "execution": {
     "iopub.execute_input": "2023-08-03T04:59:59.985312Z",
     "iopub.status.busy": "2023-08-03T04:59:59.984566Z",
     "iopub.status.idle": "2023-08-03T04:59:59.991603Z",
     "shell.execute_reply": "2023-08-03T04:59:59.990831Z"
    },
    "papermill": {
     "duration": 0.053406,
     "end_time": "2023-08-03T04:59:59.993949",
     "exception": false,
     "start_time": "2023-08-03T04:59:59.940543",
     "status": "completed"
    },
    "tags": []
   },
   "outputs": [],
   "source": [
    "print(\"trainable_weights:\", len(model.trainable_weights))\n",
    "print(\"non_trainable_weights:\", len(model.non_trainable_weights))"
   ]
  },
  {
   "cell_type": "code",
   "execution_count": null,
   "id": "c15dc560",
   "metadata": {
    "execution": {
     "iopub.execute_input": "2023-08-03T05:00:00.083198Z",
     "iopub.status.busy": "2023-08-03T05:00:00.082848Z",
     "iopub.status.idle": "2023-08-03T05:00:00.094472Z",
     "shell.execute_reply": "2023-08-03T05:00:00.093544Z"
    },
    "papermill": {
     "duration": 0.059175,
     "end_time": "2023-08-03T05:00:00.096845",
     "exception": false,
     "start_time": "2023-08-03T05:00:00.037670",
     "status": "completed"
    },
    "tags": []
   },
   "outputs": [],
   "source": [
    "#optimizer = tf.keras.optimizers.experimental.AdamW(learning_rate=0.0001,weight_decay=0.004)\n",
    "optimizer = tf.keras.optimizers.Adam(learning_rate=3e-4)\n",
    "MSEloss = tf.keras.losses.MeanSquaredError()\n",
    "\n",
    "def charbonnier_loss(y_true, y_pred):\n",
    "    return tf.reduce_mean(tf.sqrt(tf.square(y_true - y_pred) + tf.square(1e-3)))\n",
    "\n",
    "def psnr_loss_fn(y_true, y_pred):\n",
    "    return tf.image.psnr(y_pred, y_true, max_val=1.0)\n",
    "\n",
    "def ssim_loss_fn(y_true,y_pred):\n",
    "    return tf.image.ssim(y_true,y_pred,1.0)"
   ]
  },
  {
   "cell_type": "markdown",
   "id": "91c5815d",
   "metadata": {
    "papermill": {
     "duration": 0.045322,
     "end_time": "2023-08-03T05:00:00.188076",
     "exception": false,
     "start_time": "2023-08-03T05:00:00.142754",
     "status": "completed"
    },
    "tags": []
   },
   "source": [
    "**Tensorflow callabck**"
   ]
  },
  {
   "cell_type": "code",
   "execution_count": null,
   "id": "672ce8ee",
   "metadata": {
    "execution": {
     "iopub.execute_input": "2023-08-03T05:00:00.284064Z",
     "iopub.status.busy": "2023-08-03T05:00:00.283077Z",
     "iopub.status.idle": "2023-08-03T05:00:00.288691Z",
     "shell.execute_reply": "2023-08-03T05:00:00.287619Z"
    },
    "papermill": {
     "duration": 0.058389,
     "end_time": "2023-08-03T05:00:00.291054",
     "exception": false,
     "start_time": "2023-08-03T05:00:00.232665",
     "status": "completed"
    },
    "tags": []
   },
   "outputs": [],
   "source": [
    "from keras.callbacks import ModelCheckpoint\n",
    "\n",
    "# tensorboard callback\n",
    "tensorboard_callback = tf.keras.callbacks.TensorBoard(log_dir=\"./logs\")"
   ]
  },
  {
   "cell_type": "markdown",
   "id": "10a417bb",
   "metadata": {
    "papermill": {
     "duration": 0.043112,
     "end_time": "2023-08-03T05:00:00.378507",
     "exception": false,
     "start_time": "2023-08-03T05:00:00.335395",
     "status": "completed"
    },
    "tags": []
   },
   "source": [
    "**save_best_model_callback**"
   ]
  },
  {
   "cell_type": "code",
   "execution_count": null,
   "id": "8a2fe2a8",
   "metadata": {
    "execution": {
     "iopub.execute_input": "2023-08-03T05:00:00.466529Z",
     "iopub.status.busy": "2023-08-03T05:00:00.465510Z",
     "iopub.status.idle": "2023-08-03T05:00:00.472947Z",
     "shell.execute_reply": "2023-08-03T05:00:00.471893Z"
    },
    "papermill": {
     "duration": 0.054616,
     "end_time": "2023-08-03T05:00:00.476087",
     "exception": false,
     "start_time": "2023-08-03T05:00:00.421471",
     "status": "completed"
    },
    "tags": []
   },
   "outputs": [],
   "source": [
    "from datetime import datetime\n",
    "model_save_folder = datetime.now().strftime(\"%Y%m%d_%H%M%S\")\n",
    "model_save_dir = f'models/{model_save_folder}'\n",
    "#model_save_dir = f'models'\n",
    "\n",
    "if not os.path.exists(model_save_dir):\n",
    "  print(\"FOLDER CREATED\")\n",
    "  os.makedirs(model_save_dir)\n",
    "\n",
    "save_best_model_checkpoint = ModelCheckpoint(model_save_dir+'/model-{epoch:03d}.hdf5',monitor='val_loss',save_best_only=True,mode='auto')"
   ]
  },
  {
   "cell_type": "code",
   "execution_count": null,
   "id": "9791960a",
   "metadata": {
    "execution": {
     "iopub.execute_input": "2023-08-03T05:00:00.567411Z",
     "iopub.status.busy": "2023-08-03T05:00:00.567010Z",
     "iopub.status.idle": "2023-08-03T05:00:00.573552Z",
     "shell.execute_reply": "2023-08-03T05:00:00.572388Z"
    },
    "papermill": {
     "duration": 0.055386,
     "end_time": "2023-08-03T05:00:00.576292",
     "exception": false,
     "start_time": "2023-08-03T05:00:00.520906",
     "status": "completed"
    },
    "tags": []
   },
   "outputs": [],
   "source": [
    "def preprocess_image(img_path):\n",
    "    img = cv2.imread(img_path)\n",
    "    img = cv2.cvtColor(img, cv2.COLOR_BGR2RGB)\n",
    "    img = cv2.resize(img,(256,256))\n",
    "    preprocess_img = pad_image(img)\n",
    "    preprocess_img = preprocess_img/255;\n",
    "    return preprocess_img"
   ]
  },
  {
   "cell_type": "code",
   "execution_count": null,
   "id": "6b00bd25",
   "metadata": {
    "execution": {
     "iopub.execute_input": "2023-08-03T05:00:00.673079Z",
     "iopub.status.busy": "2023-08-03T05:00:00.671329Z",
     "iopub.status.idle": "2023-08-03T05:00:00.681283Z",
     "shell.execute_reply": "2023-08-03T05:00:00.680239Z"
    },
    "papermill": {
     "duration": 0.060033,
     "end_time": "2023-08-03T05:00:00.683557",
     "exception": false,
     "start_time": "2023-08-03T05:00:00.623524",
     "status": "completed"
    },
    "tags": []
   },
   "outputs": [],
   "source": [
    "def infer(x_paths,y_paths,n_images=2):\n",
    "    for i,x_image_path in enumerate(x_paths):\n",
    "        if i == n_images:\n",
    "            break\n",
    "        print(f'{i+1}/{n_images} : {x_image_path}')\n",
    "        x_img = preprocess_image(x_image_path)\n",
    "        prediction = model.predict(np.expand_dims(x_img,axis=0),verbose=0)\n",
    "\n",
    "        y_img_path = y_paths[i]\n",
    "        y_img = preprocess_image(y_img_path)\n",
    "\n",
    "        fig, ax = plt.subplots(ncols=3, figsize=(15,10));\n",
    "        ax[0].imshow(x_img);\n",
    "        ax[1].imshow(prediction[0]);\n",
    "        ax[2].imshow(y_img);\n",
    "        ax[0].axis('off');\n",
    "        ax[1].axis('off');\n",
    "        ax[2].axis('off');\n",
    "        ax[0].set_title(\"UnderWater Image\")\n",
    "        ax[1].set_title(\"Predicted Image\")\n",
    "        ax[2].set_title(\"GroundTruth Image\")\n",
    "        plt.show()"
   ]
  },
  {
   "cell_type": "code",
   "execution_count": null,
   "id": "26ebc435",
   "metadata": {
    "execution": {
     "iopub.execute_input": "2023-08-03T05:00:00.772886Z",
     "iopub.status.busy": "2023-08-03T05:00:00.772511Z",
     "iopub.status.idle": "2023-08-03T05:00:00.778697Z",
     "shell.execute_reply": "2023-08-03T05:00:00.777779Z"
    },
    "papermill": {
     "duration": 0.053616,
     "end_time": "2023-08-03T05:00:00.780799",
     "exception": false,
     "start_time": "2023-08-03T05:00:00.727183",
     "status": "completed"
    },
    "tags": []
   },
   "outputs": [],
   "source": [
    "from tensorflow.keras import callbacks\n",
    "class PredictionCallback(callbacks.Callback):\n",
    "    def __init__(self, log_interval, *args, **kwargs):\n",
    "        super().__init__(*args, **kwargs)\n",
    "        #self.image_files = image_files\n",
    "        self.log_interval = log_interval\n",
    "\n",
    "    def on_epoch_end(self, epoch, logs=None):\n",
    "        if epoch % self.log_interval == 0:\n",
    "            infer(train_x_paths,train_y_paths,n_images=2)\n"
   ]
  },
  {
   "cell_type": "code",
   "execution_count": null,
   "id": "5ca630a1",
   "metadata": {
    "execution": {
     "iopub.execute_input": "2023-08-03T05:00:00.870085Z",
     "iopub.status.busy": "2023-08-03T05:00:00.869745Z",
     "iopub.status.idle": "2023-08-03T05:00:00.887788Z",
     "shell.execute_reply": "2023-08-03T05:00:00.886829Z"
    },
    "papermill": {
     "duration": 0.065425,
     "end_time": "2023-08-03T05:00:00.890107",
     "exception": false,
     "start_time": "2023-08-03T05:00:00.824682",
     "status": "completed"
    },
    "tags": []
   },
   "outputs": [],
   "source": [
    "#model.compile(optimizer,loss, metrics = [charbonnier_loss,psnr_loss_fn,ssim_loss_fn])\n",
    "model.compile(optimizer,charbonnier_loss, metrics = [MSEloss,psnr_loss_fn,ssim_loss_fn])"
   ]
  },
  {
   "cell_type": "markdown",
   "id": "4771148a",
   "metadata": {
    "papermill": {
     "duration": 0.044977,
     "end_time": "2023-08-03T05:00:00.980098",
     "exception": false,
     "start_time": "2023-08-03T05:00:00.935121",
     "status": "completed"
    },
    "tags": []
   },
   "source": [
    "**Train Model**"
   ]
  },
  {
   "cell_type": "code",
   "execution_count": null,
   "id": "501e3fdc",
   "metadata": {
    "execution": {
     "iopub.execute_input": "2023-08-03T05:00:01.068922Z",
     "iopub.status.busy": "2023-08-03T05:00:01.068482Z",
     "iopub.status.idle": "2023-08-03T05:00:01.073058Z",
     "shell.execute_reply": "2023-08-03T05:00:01.071982Z"
    },
    "papermill": {
     "duration": 0.051986,
     "end_time": "2023-08-03T05:00:01.075860",
     "exception": false,
     "start_time": "2023-08-03T05:00:01.023874",
     "status": "completed"
    },
    "tags": []
   },
   "outputs": [],
   "source": [
    "LOG_INTERVALS = 5\n",
    "EPOCHS        = 50"
   ]
  },
  {
   "cell_type": "code",
   "execution_count": null,
   "id": "27cd8bb2",
   "metadata": {
    "execution": {
     "iopub.execute_input": "2023-08-03T05:00:01.166012Z",
     "iopub.status.busy": "2023-08-03T05:00:01.165653Z",
     "iopub.status.idle": "2023-08-03T13:37:11.968000Z",
     "shell.execute_reply": "2023-08-03T13:37:11.967066Z"
    },
    "papermill": {
     "duration": 31030.849865,
     "end_time": "2023-08-03T13:37:11.970262",
     "exception": false,
     "start_time": "2023-08-03T05:00:01.120397",
     "status": "completed"
    },
    "tags": []
   },
   "outputs": [],
   "source": [
    "# Train for 50 epochs\n",
    "\n",
    "hist = model.fit(train, epochs = EPOCHS, validation_data = val, callbacks=[tensorboard_callback,save_best_model_checkpoint,\n",
    "                                                                        PredictionCallback(log_interval = LOG_INTERVALS)])"
   ]
  },
  {
   "cell_type": "markdown",
   "id": "5a032cab",
   "metadata": {
    "papermill": {
     "duration": 5.065686,
     "end_time": "2023-08-03T13:37:22.369300",
     "exception": false,
     "start_time": "2023-08-03T13:37:17.303614",
     "status": "completed"
    },
    "tags": []
   },
   "source": [
    "**Save weights**"
   ]
  },
  {
   "cell_type": "code",
   "execution_count": null,
   "id": "93069a7f",
   "metadata": {
    "execution": {
     "iopub.execute_input": "2023-08-03T13:37:32.485774Z",
     "iopub.status.busy": "2023-08-03T13:37:32.485360Z",
     "iopub.status.idle": "2023-08-03T13:37:46.361463Z",
     "shell.execute_reply": "2023-08-03T13:37:46.360290Z"
    },
    "papermill": {
     "duration": 18.967431,
     "end_time": "2023-08-03T13:37:46.364217",
     "exception": false,
     "start_time": "2023-08-03T13:37:27.396786",
     "status": "completed"
    },
    "tags": []
   },
   "outputs": [],
   "source": [
    "# save weights\n",
    "model.save(\"LLE_UNET_UNDWERWATER.h5\")\n",
    "\n",
    "# save entire model\n",
    "model.save('LLE_UNET_UNDWERWATER')"
   ]
  },
  {
   "cell_type": "markdown",
   "id": "e833e34f",
   "metadata": {
    "papermill": {
     "duration": 5.111343,
     "end_time": "2023-08-03T13:37:56.897553",
     "exception": false,
     "start_time": "2023-08-03T13:37:51.786210",
     "status": "completed"
    },
    "tags": []
   },
   "source": [
    "**Loss curves**"
   ]
  },
  {
   "cell_type": "code",
   "execution_count": null,
   "id": "f1e6fd3a",
   "metadata": {
    "execution": {
     "iopub.execute_input": "2023-08-03T13:38:07.212747Z",
     "iopub.status.busy": "2023-08-03T13:38:07.212330Z",
     "iopub.status.idle": "2023-08-03T13:38:07.477898Z",
     "shell.execute_reply": "2023-08-03T13:38:07.476659Z"
    },
    "papermill": {
     "duration": 5.404306,
     "end_time": "2023-08-03T13:38:07.480597",
     "exception": false,
     "start_time": "2023-08-03T13:38:02.076291",
     "status": "completed"
    },
    "tags": []
   },
   "outputs": [],
   "source": [
    "plt.plot(hist.history['loss'], color='teal', label='loss')\n",
    "plt.plot(hist.history['val_loss'], color='orange', label='val loss')\n",
    "plt.suptitle('Loss')\n",
    "plt.legend()\n",
    "plt.show()"
   ]
  },
  {
   "cell_type": "markdown",
   "id": "2a99273e",
   "metadata": {
    "papermill": {
     "duration": 5.741459,
     "end_time": "2023-08-03T13:38:18.380753",
     "exception": false,
     "start_time": "2023-08-03T13:38:12.639294",
     "status": "completed"
    },
    "tags": []
   },
   "source": [
    "**Tensorboard Visulaization**"
   ]
  },
  {
   "cell_type": "code",
   "execution_count": null,
   "id": "27cee162",
   "metadata": {
    "execution": {
     "iopub.execute_input": "2023-08-03T13:38:28.787919Z",
     "iopub.status.busy": "2023-08-03T13:38:28.787532Z",
     "iopub.status.idle": "2023-08-03T13:38:28.804805Z",
     "shell.execute_reply": "2023-08-03T13:38:28.803787Z"
    },
    "papermill": {
     "duration": 5.081879,
     "end_time": "2023-08-03T13:38:28.807007",
     "exception": false,
     "start_time": "2023-08-03T13:38:23.725128",
     "status": "completed"
    },
    "tags": []
   },
   "outputs": [],
   "source": [
    "%load_ext tensorboard"
   ]
  },
  {
   "cell_type": "code",
   "execution_count": null,
   "id": "5ce2df3c",
   "metadata": {
    "execution": {
     "iopub.execute_input": "2023-08-03T13:38:39.176083Z",
     "iopub.status.busy": "2023-08-03T13:38:39.175720Z",
     "iopub.status.idle": "2023-08-03T13:38:46.203635Z",
     "shell.execute_reply": "2023-08-03T13:38:46.202513Z"
    },
    "papermill": {
     "duration": 12.062464,
     "end_time": "2023-08-03T13:38:46.206142",
     "exception": false,
     "start_time": "2023-08-03T13:38:34.143678",
     "status": "completed"
    },
    "tags": []
   },
   "outputs": [],
   "source": [
    "%tensorboard --logdir '/kaggle/working/logs'"
   ]
  },
  {
   "cell_type": "markdown",
   "id": "76f1f856",
   "metadata": {
    "papermill": {
     "duration": 5.17446,
     "end_time": "2023-08-03T13:38:57.102094",
     "exception": false,
     "start_time": "2023-08-03T13:38:51.927634",
     "status": "completed"
    },
    "tags": []
   },
   "source": [
    "**Model Inference on test data**"
   ]
  },
  {
   "cell_type": "code",
   "execution_count": null,
   "id": "7356cefb",
   "metadata": {
    "execution": {
     "iopub.execute_input": "2023-08-03T13:39:07.447374Z",
     "iopub.status.busy": "2023-08-03T13:39:07.446981Z",
     "iopub.status.idle": "2023-08-03T13:39:14.956792Z",
     "shell.execute_reply": "2023-08-03T13:39:14.955916Z"
    },
    "papermill": {
     "duration": 12.654583,
     "end_time": "2023-08-03T13:39:14.966689",
     "exception": false,
     "start_time": "2023-08-03T13:39:02.312106",
     "status": "completed"
    },
    "tags": []
   },
   "outputs": [],
   "source": [
    "# on test images\n",
    "infer(test_x_paths,test_y_paths,n_images=10)"
   ]
  },
  {
   "cell_type": "markdown",
   "id": "403d7dbe",
   "metadata": {
    "papermill": {
     "duration": 5.654414,
     "end_time": "2023-08-03T13:39:26.027484",
     "exception": false,
     "start_time": "2023-08-03T13:39:20.373070",
     "status": "completed"
    },
    "tags": []
   },
   "source": [
    "**LLE_UNET** is a versatile model. \n",
    "Train it for your use case and share the results with us !!!\n",
    "\n",
    "If you have any concerns, please open an issue on [GitHub](https://github.com/pamudu123/Low_Light_Image_Enhancement). We are happy to assist you.\n",
    "\n",
    "*Pamudu Ranasinghe*\n",
    "[Linkedin](https://www.linkedin.com/in/pamudu-ranasinghe/)\n"
   ]
  }
 ],
 "metadata": {
  "kernelspec": {
   "display_name": "Python 3",
   "language": "python",
   "name": "python3"
  },
  "language_info": {
   "codemirror_mode": {
    "name": "ipython",
    "version": 3
   },
   "file_extension": ".py",
   "mimetype": "text/x-python",
   "name": "python",
   "nbconvert_exporter": "python",
   "pygments_lexer": "ipython3",
   "version": "3.10.12"
  },
  "papermill": {
   "default_parameters": {},
   "duration": 31232.25813,
   "end_time": "2023-08-03T13:39:34.040381",
   "environment_variables": {},
   "exception": null,
   "input_path": "__notebook__.ipynb",
   "output_path": "__notebook__.ipynb",
   "parameters": {},
   "start_time": "2023-08-03T04:59:01.782251",
   "version": "2.4.0"
  }
 },
 "nbformat": 4,
 "nbformat_minor": 5
}
